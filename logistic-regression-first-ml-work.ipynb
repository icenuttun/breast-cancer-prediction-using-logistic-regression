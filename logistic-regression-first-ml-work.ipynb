{
 "cells": [
  {
   "cell_type": "code",
   "execution_count": 1,
   "id": "c9413d1c",
   "metadata": {
    "execution": {
     "iopub.execute_input": "2022-05-03T12:10:05.775046Z",
     "iopub.status.busy": "2022-05-03T12:10:05.774496Z",
     "iopub.status.idle": "2022-05-03T12:10:05.780666Z",
     "shell.execute_reply": "2022-05-03T12:10:05.780195Z"
    },
    "papermill": {
     "duration": 0.063679,
     "end_time": "2022-05-03T12:10:05.782446",
     "exception": false,
     "start_time": "2022-05-03T12:10:05.718767",
     "status": "completed"
    },
    "tags": []
   },
   "outputs": [],
   "source": [
    "### Features are computed from a digitized image of a fine needle aspirate (FNA) of a breast mass. They describe characteristics of the cell nuclei present in the image. A few of the images can be found at [Web Link]\n",
    "\n",
    "### Separating plane described above was obtained using Multisurface Method-Tree (MSM-T) [K. P. Bennett, \"Decision Tree Construction Via Linear Programming.\" Proceedings of the 4th Midwest Artificial Intelligence and Cognitive Science Society, pp. 97-101, 1992], a classification method which uses linear programming to construct a decision tree. Relevant features were selected using an exhaustive search in the space of 1-4 features and 1-3 separating planes.\n",
    "\n",
    "### The actual linear program used to obtain the separating plane in the 3-dimensional space is that described in: [K. P. Bennett and O. L. Mangasarian: \"Robust Linear Programming Discrimination of Two Linearly Inseparable Sets\", Optimization Methods and Software 1, 1992, 23-34].\n",
    "### Features are computed from a digitized image of a fine needle aspirate (FNA) of a breast mass. They describe characteristics of the cell nuclei present in the image. A few of the images can be found at [Web Link]\n",
    "\n",
    "### Separating plane described above was obtained using Multisurface Method-Tree (MSM-T) [K. P. Bennett, \"Decision Tree Construction Via Linear Programming.\" Proceedings of the 4th Midwest Artificial Intelligence and Cognitive Science Society, pp. 97-101, 1992], a classification method which uses linear programming to construct a decision tree. Relevant features were selected using an exhaustive search in the space of 1-4 features and 1-3 separating planes.\n",
    "\n",
    "### The actual linear program used to obtain the separating plane in the 3-dimensional space is that described in: [K. P. Bennett and O. L. Mangasarian: \"Robust Linear Programming Discrimination of Two Linearly Inseparable Sets\", Optimization Methods and Software 1, 1992, 23-34].\n",
    "###     In this problem we have to use 30 different columns and we have to predict the Stage of Breast Cancer M (Malignant) and B (Bengin)\n",
    "###     This analysis has been done using Basic Machine Learning Algorithm with detailed explanation\n",
    "###     This is good for beginners like as me Lets start.\n",
    "###     4.Attribute Information:\n",
    "###     \n",
    "###     1) ID number\n",
    "###     \n",
    "###     2) Diagnosis (M = malignant, B = benign)\n",
    "###     \n",
    "###     -3-32.Ten real-valued features are computed for each cell nucleus:\n",
    "###     \n",
    "###     a) radius (mean of distances from center to points on the perimeter)\n",
    "###     \n",
    "###     b) texture (standard deviation of gray-scale values)\n",
    "###     \n",
    "###     c) perimeter\n",
    "###     \n",
    "###     d) area\n",
    "###     \n",
    "###     e) smoothness (local variation in radius lengths)\n",
    "###     \n",
    "###     f) compactness (perimeter^2 / area - 1.0)\n",
    "###     \n",
    "###     g). concavity (severity of concave portions of the contour)\n",
    "###     \n",
    "###     h). concave points (number of concave portions of the contour)\n",
    "###     \n",
    "###     i). symmetry\n",
    "###     \n",
    "###     j). fractal dimension (\"coastline approximation\" - 1)\n",
    "###     \n",
    "###     5 here 3- 32 are divided into three parts first is Mean (3-13), Stranded Error(13-23) and Worst(23-32) and each contain 10 parameter (radius, texture,area, perimeter, smoothness,compactness,concavity,concave points,symmetry and fractal dimension)\n",
    "###     \n",
    "###     Here Mean means the means of the all cells, standard Error of all cell and worst means the worst cell\n"
   ]
  },
  {
   "cell_type": "code",
   "execution_count": 2,
   "id": "13ea4f76",
   "metadata": {
    "execution": {
     "iopub.execute_input": "2022-05-03T12:10:05.889741Z",
     "iopub.status.busy": "2022-05-03T12:10:05.889160Z",
     "iopub.status.idle": "2022-05-03T12:10:06.873875Z",
     "shell.execute_reply": "2022-05-03T12:10:06.873163Z"
    },
    "papermill": {
     "duration": 1.040774,
     "end_time": "2022-05-03T12:10:06.876442",
     "exception": false,
     "start_time": "2022-05-03T12:10:05.835668",
     "status": "completed"
    },
    "tags": []
   },
   "outputs": [],
   "source": [
    "import numpy as np\n",
    "import pandas as pd\n",
    "import matplotlib.pyplot as plt\n",
    "import seaborn as sns\n",
    "sns.set()"
   ]
  },
  {
   "cell_type": "code",
   "execution_count": 3,
   "id": "dcd11649",
   "metadata": {
    "execution": {
     "iopub.execute_input": "2022-05-03T12:10:06.983634Z",
     "iopub.status.busy": "2022-05-03T12:10:06.983156Z",
     "iopub.status.idle": "2022-05-03T12:10:07.004186Z",
     "shell.execute_reply": "2022-05-03T12:10:07.003555Z"
    },
    "papermill": {
     "duration": 0.076056,
     "end_time": "2022-05-03T12:10:07.006321",
     "exception": false,
     "start_time": "2022-05-03T12:10:06.930265",
     "status": "completed"
    },
    "tags": []
   },
   "outputs": [],
   "source": [
    "df=pd.read_csv('../input/breast-cancer-wisconsin-data/data.csv')\n"
   ]
  },
  {
   "cell_type": "code",
   "execution_count": 4,
   "id": "64404424",
   "metadata": {
    "execution": {
     "iopub.execute_input": "2022-05-03T12:10:07.115165Z",
     "iopub.status.busy": "2022-05-03T12:10:07.114628Z",
     "iopub.status.idle": "2022-05-03T12:10:07.150543Z",
     "shell.execute_reply": "2022-05-03T12:10:07.149828Z"
    },
    "papermill": {
     "duration": 0.094608,
     "end_time": "2022-05-03T12:10:07.153162",
     "exception": false,
     "start_time": "2022-05-03T12:10:07.058554",
     "status": "completed"
    },
    "tags": []
   },
   "outputs": [
    {
     "data": {
      "text/html": [
       "<div>\n",
       "<style scoped>\n",
       "    .dataframe tbody tr th:only-of-type {\n",
       "        vertical-align: middle;\n",
       "    }\n",
       "\n",
       "    .dataframe tbody tr th {\n",
       "        vertical-align: top;\n",
       "    }\n",
       "\n",
       "    .dataframe thead th {\n",
       "        text-align: right;\n",
       "    }\n",
       "</style>\n",
       "<table border=\"1\" class=\"dataframe\">\n",
       "  <thead>\n",
       "    <tr style=\"text-align: right;\">\n",
       "      <th></th>\n",
       "      <th>id</th>\n",
       "      <th>diagnosis</th>\n",
       "      <th>radius_mean</th>\n",
       "      <th>texture_mean</th>\n",
       "      <th>perimeter_mean</th>\n",
       "      <th>area_mean</th>\n",
       "      <th>smoothness_mean</th>\n",
       "      <th>compactness_mean</th>\n",
       "      <th>concavity_mean</th>\n",
       "      <th>concave points_mean</th>\n",
       "      <th>...</th>\n",
       "      <th>texture_worst</th>\n",
       "      <th>perimeter_worst</th>\n",
       "      <th>area_worst</th>\n",
       "      <th>smoothness_worst</th>\n",
       "      <th>compactness_worst</th>\n",
       "      <th>concavity_worst</th>\n",
       "      <th>concave points_worst</th>\n",
       "      <th>symmetry_worst</th>\n",
       "      <th>fractal_dimension_worst</th>\n",
       "      <th>Unnamed: 32</th>\n",
       "    </tr>\n",
       "  </thead>\n",
       "  <tbody>\n",
       "    <tr>\n",
       "      <th>0</th>\n",
       "      <td>842302</td>\n",
       "      <td>M</td>\n",
       "      <td>17.99</td>\n",
       "      <td>10.38</td>\n",
       "      <td>122.80</td>\n",
       "      <td>1001.0</td>\n",
       "      <td>0.11840</td>\n",
       "      <td>0.27760</td>\n",
       "      <td>0.3001</td>\n",
       "      <td>0.14710</td>\n",
       "      <td>...</td>\n",
       "      <td>17.33</td>\n",
       "      <td>184.60</td>\n",
       "      <td>2019.0</td>\n",
       "      <td>0.1622</td>\n",
       "      <td>0.6656</td>\n",
       "      <td>0.7119</td>\n",
       "      <td>0.2654</td>\n",
       "      <td>0.4601</td>\n",
       "      <td>0.11890</td>\n",
       "      <td>NaN</td>\n",
       "    </tr>\n",
       "    <tr>\n",
       "      <th>1</th>\n",
       "      <td>842517</td>\n",
       "      <td>M</td>\n",
       "      <td>20.57</td>\n",
       "      <td>17.77</td>\n",
       "      <td>132.90</td>\n",
       "      <td>1326.0</td>\n",
       "      <td>0.08474</td>\n",
       "      <td>0.07864</td>\n",
       "      <td>0.0869</td>\n",
       "      <td>0.07017</td>\n",
       "      <td>...</td>\n",
       "      <td>23.41</td>\n",
       "      <td>158.80</td>\n",
       "      <td>1956.0</td>\n",
       "      <td>0.1238</td>\n",
       "      <td>0.1866</td>\n",
       "      <td>0.2416</td>\n",
       "      <td>0.1860</td>\n",
       "      <td>0.2750</td>\n",
       "      <td>0.08902</td>\n",
       "      <td>NaN</td>\n",
       "    </tr>\n",
       "    <tr>\n",
       "      <th>2</th>\n",
       "      <td>84300903</td>\n",
       "      <td>M</td>\n",
       "      <td>19.69</td>\n",
       "      <td>21.25</td>\n",
       "      <td>130.00</td>\n",
       "      <td>1203.0</td>\n",
       "      <td>0.10960</td>\n",
       "      <td>0.15990</td>\n",
       "      <td>0.1974</td>\n",
       "      <td>0.12790</td>\n",
       "      <td>...</td>\n",
       "      <td>25.53</td>\n",
       "      <td>152.50</td>\n",
       "      <td>1709.0</td>\n",
       "      <td>0.1444</td>\n",
       "      <td>0.4245</td>\n",
       "      <td>0.4504</td>\n",
       "      <td>0.2430</td>\n",
       "      <td>0.3613</td>\n",
       "      <td>0.08758</td>\n",
       "      <td>NaN</td>\n",
       "    </tr>\n",
       "    <tr>\n",
       "      <th>3</th>\n",
       "      <td>84348301</td>\n",
       "      <td>M</td>\n",
       "      <td>11.42</td>\n",
       "      <td>20.38</td>\n",
       "      <td>77.58</td>\n",
       "      <td>386.1</td>\n",
       "      <td>0.14250</td>\n",
       "      <td>0.28390</td>\n",
       "      <td>0.2414</td>\n",
       "      <td>0.10520</td>\n",
       "      <td>...</td>\n",
       "      <td>26.50</td>\n",
       "      <td>98.87</td>\n",
       "      <td>567.7</td>\n",
       "      <td>0.2098</td>\n",
       "      <td>0.8663</td>\n",
       "      <td>0.6869</td>\n",
       "      <td>0.2575</td>\n",
       "      <td>0.6638</td>\n",
       "      <td>0.17300</td>\n",
       "      <td>NaN</td>\n",
       "    </tr>\n",
       "    <tr>\n",
       "      <th>4</th>\n",
       "      <td>84358402</td>\n",
       "      <td>M</td>\n",
       "      <td>20.29</td>\n",
       "      <td>14.34</td>\n",
       "      <td>135.10</td>\n",
       "      <td>1297.0</td>\n",
       "      <td>0.10030</td>\n",
       "      <td>0.13280</td>\n",
       "      <td>0.1980</td>\n",
       "      <td>0.10430</td>\n",
       "      <td>...</td>\n",
       "      <td>16.67</td>\n",
       "      <td>152.20</td>\n",
       "      <td>1575.0</td>\n",
       "      <td>0.1374</td>\n",
       "      <td>0.2050</td>\n",
       "      <td>0.4000</td>\n",
       "      <td>0.1625</td>\n",
       "      <td>0.2364</td>\n",
       "      <td>0.07678</td>\n",
       "      <td>NaN</td>\n",
       "    </tr>\n",
       "  </tbody>\n",
       "</table>\n",
       "<p>5 rows × 33 columns</p>\n",
       "</div>"
      ],
      "text/plain": [
       "         id diagnosis  radius_mean  texture_mean  perimeter_mean  area_mean  \\\n",
       "0    842302         M        17.99         10.38          122.80     1001.0   \n",
       "1    842517         M        20.57         17.77          132.90     1326.0   \n",
       "2  84300903         M        19.69         21.25          130.00     1203.0   \n",
       "3  84348301         M        11.42         20.38           77.58      386.1   \n",
       "4  84358402         M        20.29         14.34          135.10     1297.0   \n",
       "\n",
       "   smoothness_mean  compactness_mean  concavity_mean  concave points_mean  \\\n",
       "0          0.11840           0.27760          0.3001              0.14710   \n",
       "1          0.08474           0.07864          0.0869              0.07017   \n",
       "2          0.10960           0.15990          0.1974              0.12790   \n",
       "3          0.14250           0.28390          0.2414              0.10520   \n",
       "4          0.10030           0.13280          0.1980              0.10430   \n",
       "\n",
       "   ...  texture_worst  perimeter_worst  area_worst  smoothness_worst  \\\n",
       "0  ...          17.33           184.60      2019.0            0.1622   \n",
       "1  ...          23.41           158.80      1956.0            0.1238   \n",
       "2  ...          25.53           152.50      1709.0            0.1444   \n",
       "3  ...          26.50            98.87       567.7            0.2098   \n",
       "4  ...          16.67           152.20      1575.0            0.1374   \n",
       "\n",
       "   compactness_worst  concavity_worst  concave points_worst  symmetry_worst  \\\n",
       "0             0.6656           0.7119                0.2654          0.4601   \n",
       "1             0.1866           0.2416                0.1860          0.2750   \n",
       "2             0.4245           0.4504                0.2430          0.3613   \n",
       "3             0.8663           0.6869                0.2575          0.6638   \n",
       "4             0.2050           0.4000                0.1625          0.2364   \n",
       "\n",
       "   fractal_dimension_worst  Unnamed: 32  \n",
       "0                  0.11890          NaN  \n",
       "1                  0.08902          NaN  \n",
       "2                  0.08758          NaN  \n",
       "3                  0.17300          NaN  \n",
       "4                  0.07678          NaN  \n",
       "\n",
       "[5 rows x 33 columns]"
      ]
     },
     "execution_count": 4,
     "metadata": {},
     "output_type": "execute_result"
    }
   ],
   "source": [
    "df.head()"
   ]
  },
  {
   "cell_type": "code",
   "execution_count": 5,
   "id": "541038ed",
   "metadata": {
    "execution": {
     "iopub.execute_input": "2022-05-03T12:10:07.261307Z",
     "iopub.status.busy": "2022-05-03T12:10:07.260789Z",
     "iopub.status.idle": "2022-05-03T12:10:07.264560Z",
     "shell.execute_reply": "2022-05-03T12:10:07.263979Z"
    },
    "papermill": {
     "duration": 0.059918,
     "end_time": "2022-05-03T12:10:07.266323",
     "exception": false,
     "start_time": "2022-05-03T12:10:07.206405",
     "status": "completed"
    },
    "tags": []
   },
   "outputs": [],
   "source": [
    "# Saw that 3 type (mean,SE,worst) of 10 variable"
   ]
  },
  {
   "cell_type": "code",
   "execution_count": 6,
   "id": "2165fdad",
   "metadata": {
    "execution": {
     "iopub.execute_input": "2022-05-03T12:10:07.373388Z",
     "iopub.status.busy": "2022-05-03T12:10:07.373134Z",
     "iopub.status.idle": "2022-05-03T12:10:07.378414Z",
     "shell.execute_reply": "2022-05-03T12:10:07.377669Z"
    },
    "papermill": {
     "duration": 0.061107,
     "end_time": "2022-05-03T12:10:07.380530",
     "exception": false,
     "start_time": "2022-05-03T12:10:07.319423",
     "status": "completed"
    },
    "tags": []
   },
   "outputs": [
    {
     "data": {
      "text/plain": [
       "(569, 33)"
      ]
     },
     "execution_count": 6,
     "metadata": {},
     "output_type": "execute_result"
    }
   ],
   "source": [
    "df.shape"
   ]
  },
  {
   "cell_type": "code",
   "execution_count": 7,
   "id": "ea386add",
   "metadata": {
    "execution": {
     "iopub.execute_input": "2022-05-03T12:10:07.490249Z",
     "iopub.status.busy": "2022-05-03T12:10:07.489709Z",
     "iopub.status.idle": "2022-05-03T12:10:07.498169Z",
     "shell.execute_reply": "2022-05-03T12:10:07.497524Z"
    },
    "papermill": {
     "duration": 0.066366,
     "end_time": "2022-05-03T12:10:07.500069",
     "exception": false,
     "start_time": "2022-05-03T12:10:07.433703",
     "status": "completed"
    },
    "tags": []
   },
   "outputs": [
    {
     "data": {
      "text/plain": [
       "id                           0\n",
       "diagnosis                    0\n",
       "radius_mean                  0\n",
       "texture_mean                 0\n",
       "perimeter_mean               0\n",
       "area_mean                    0\n",
       "smoothness_mean              0\n",
       "compactness_mean             0\n",
       "concavity_mean               0\n",
       "concave points_mean          0\n",
       "symmetry_mean                0\n",
       "fractal_dimension_mean       0\n",
       "radius_se                    0\n",
       "texture_se                   0\n",
       "perimeter_se                 0\n",
       "area_se                      0\n",
       "smoothness_se                0\n",
       "compactness_se               0\n",
       "concavity_se                 0\n",
       "concave points_se            0\n",
       "symmetry_se                  0\n",
       "fractal_dimension_se         0\n",
       "radius_worst                 0\n",
       "texture_worst                0\n",
       "perimeter_worst              0\n",
       "area_worst                   0\n",
       "smoothness_worst             0\n",
       "compactness_worst            0\n",
       "concavity_worst              0\n",
       "concave points_worst         0\n",
       "symmetry_worst               0\n",
       "fractal_dimension_worst      0\n",
       "Unnamed: 32                569\n",
       "dtype: int64"
      ]
     },
     "execution_count": 7,
     "metadata": {},
     "output_type": "execute_result"
    }
   ],
   "source": [
    "df.isna().sum()"
   ]
  },
  {
   "cell_type": "code",
   "execution_count": 8,
   "id": "31021a3d",
   "metadata": {
    "execution": {
     "iopub.execute_input": "2022-05-03T12:10:07.610024Z",
     "iopub.status.busy": "2022-05-03T12:10:07.609461Z",
     "iopub.status.idle": "2022-05-03T12:10:07.616911Z",
     "shell.execute_reply": "2022-05-03T12:10:07.616429Z"
    },
    "papermill": {
     "duration": 0.064095,
     "end_time": "2022-05-03T12:10:07.618703",
     "exception": false,
     "start_time": "2022-05-03T12:10:07.554608",
     "status": "completed"
    },
    "tags": []
   },
   "outputs": [],
   "source": [
    "df.drop('Unnamed: 32',axis=1,inplace=True)"
   ]
  },
  {
   "cell_type": "code",
   "execution_count": 9,
   "id": "938b5412",
   "metadata": {
    "execution": {
     "iopub.execute_input": "2022-05-03T12:10:07.726366Z",
     "iopub.status.busy": "2022-05-03T12:10:07.726107Z",
     "iopub.status.idle": "2022-05-03T12:10:07.731323Z",
     "shell.execute_reply": "2022-05-03T12:10:07.730641Z"
    },
    "papermill": {
     "duration": 0.061129,
     "end_time": "2022-05-03T12:10:07.733204",
     "exception": false,
     "start_time": "2022-05-03T12:10:07.672075",
     "status": "completed"
    },
    "tags": []
   },
   "outputs": [
    {
     "data": {
      "text/plain": [
       "(569, 32)"
      ]
     },
     "execution_count": 9,
     "metadata": {},
     "output_type": "execute_result"
    }
   ],
   "source": [
    "df.shape"
   ]
  },
  {
   "cell_type": "code",
   "execution_count": 10,
   "id": "1c3cb683",
   "metadata": {
    "execution": {
     "iopub.execute_input": "2022-05-03T12:10:07.843514Z",
     "iopub.status.busy": "2022-05-03T12:10:07.843191Z",
     "iopub.status.idle": "2022-05-03T12:10:07.853049Z",
     "shell.execute_reply": "2022-05-03T12:10:07.852315Z"
    },
    "papermill": {
     "duration": 0.067463,
     "end_time": "2022-05-03T12:10:07.854840",
     "exception": false,
     "start_time": "2022-05-03T12:10:07.787377",
     "status": "completed"
    },
    "tags": []
   },
   "outputs": [
    {
     "data": {
      "text/plain": [
       "B    357\n",
       "M    212\n",
       "Name: diagnosis, dtype: int64"
      ]
     },
     "execution_count": 10,
     "metadata": {},
     "output_type": "execute_result"
    }
   ],
   "source": [
    "df['diagnosis'].value_counts()"
   ]
  },
  {
   "cell_type": "code",
   "execution_count": 11,
   "id": "de53fecf",
   "metadata": {
    "execution": {
     "iopub.execute_input": "2022-05-03T12:10:07.967397Z",
     "iopub.status.busy": "2022-05-03T12:10:07.967137Z",
     "iopub.status.idle": "2022-05-03T12:10:07.973860Z",
     "shell.execute_reply": "2022-05-03T12:10:07.973345Z"
    },
    "papermill": {
     "duration": 0.065434,
     "end_time": "2022-05-03T12:10:07.975652",
     "exception": false,
     "start_time": "2022-05-03T12:10:07.910218",
     "status": "completed"
    },
    "tags": []
   },
   "outputs": [
    {
     "data": {
      "text/plain": [
       "id                           int64\n",
       "diagnosis                   object\n",
       "radius_mean                float64\n",
       "texture_mean               float64\n",
       "perimeter_mean             float64\n",
       "area_mean                  float64\n",
       "smoothness_mean            float64\n",
       "compactness_mean           float64\n",
       "concavity_mean             float64\n",
       "concave points_mean        float64\n",
       "symmetry_mean              float64\n",
       "fractal_dimension_mean     float64\n",
       "radius_se                  float64\n",
       "texture_se                 float64\n",
       "perimeter_se               float64\n",
       "area_se                    float64\n",
       "smoothness_se              float64\n",
       "compactness_se             float64\n",
       "concavity_se               float64\n",
       "concave points_se          float64\n",
       "symmetry_se                float64\n",
       "fractal_dimension_se       float64\n",
       "radius_worst               float64\n",
       "texture_worst              float64\n",
       "perimeter_worst            float64\n",
       "area_worst                 float64\n",
       "smoothness_worst           float64\n",
       "compactness_worst          float64\n",
       "concavity_worst            float64\n",
       "concave points_worst       float64\n",
       "symmetry_worst             float64\n",
       "fractal_dimension_worst    float64\n",
       "dtype: object"
      ]
     },
     "execution_count": 11,
     "metadata": {},
     "output_type": "execute_result"
    }
   ],
   "source": [
    "df.dtypes"
   ]
  },
  {
   "cell_type": "code",
   "execution_count": 12,
   "id": "1e1d65af",
   "metadata": {
    "execution": {
     "iopub.execute_input": "2022-05-03T12:10:08.085427Z",
     "iopub.status.busy": "2022-05-03T12:10:08.085144Z",
     "iopub.status.idle": "2022-05-03T12:10:08.207418Z",
     "shell.execute_reply": "2022-05-03T12:10:08.206809Z"
    },
    "papermill": {
     "duration": 0.179283,
     "end_time": "2022-05-03T12:10:08.209527",
     "exception": false,
     "start_time": "2022-05-03T12:10:08.030244",
     "status": "completed"
    },
    "tags": []
   },
   "outputs": [],
   "source": [
    "from sklearn.preprocessing import LabelEncoder\n",
    "labelencoder=LabelEncoder()\n",
    "df.iloc[:,1]=labelencoder.fit_transform(df.iloc[:,1].values)"
   ]
  },
  {
   "cell_type": "code",
   "execution_count": 13,
   "id": "49262da3",
   "metadata": {
    "execution": {
     "iopub.execute_input": "2022-05-03T12:10:08.320909Z",
     "iopub.status.busy": "2022-05-03T12:10:08.320094Z",
     "iopub.status.idle": "2022-05-03T12:10:08.326505Z",
     "shell.execute_reply": "2022-05-03T12:10:08.326027Z"
    },
    "papermill": {
     "duration": 0.064216,
     "end_time": "2022-05-03T12:10:08.328145",
     "exception": false,
     "start_time": "2022-05-03T12:10:08.263929",
     "status": "completed"
    },
    "tags": []
   },
   "outputs": [
    {
     "data": {
      "text/plain": [
       "0      1\n",
       "1      1\n",
       "2      1\n",
       "3      1\n",
       "4      1\n",
       "      ..\n",
       "564    1\n",
       "565    1\n",
       "566    1\n",
       "567    1\n",
       "568    0\n",
       "Name: diagnosis, Length: 569, dtype: int64"
      ]
     },
     "execution_count": 13,
     "metadata": {},
     "output_type": "execute_result"
    }
   ],
   "source": [
    "df.iloc[:,1]"
   ]
  },
  {
   "cell_type": "code",
   "execution_count": 14,
   "id": "5889053b",
   "metadata": {
    "execution": {
     "iopub.execute_input": "2022-05-03T12:10:08.440084Z",
     "iopub.status.busy": "2022-05-03T12:10:08.439572Z",
     "iopub.status.idle": "2022-05-03T12:10:08.471773Z",
     "shell.execute_reply": "2022-05-03T12:10:08.471241Z"
    },
    "papermill": {
     "duration": 0.089313,
     "end_time": "2022-05-03T12:10:08.473353",
     "exception": false,
     "start_time": "2022-05-03T12:10:08.384040",
     "status": "completed"
    },
    "tags": []
   },
   "outputs": [
    {
     "data": {
      "text/html": [
       "<div>\n",
       "<style scoped>\n",
       "    .dataframe tbody tr th:only-of-type {\n",
       "        vertical-align: middle;\n",
       "    }\n",
       "\n",
       "    .dataframe tbody tr th {\n",
       "        vertical-align: top;\n",
       "    }\n",
       "\n",
       "    .dataframe thead th {\n",
       "        text-align: right;\n",
       "    }\n",
       "</style>\n",
       "<table border=\"1\" class=\"dataframe\">\n",
       "  <thead>\n",
       "    <tr style=\"text-align: right;\">\n",
       "      <th></th>\n",
       "      <th>id</th>\n",
       "      <th>diagnosis</th>\n",
       "      <th>radius_mean</th>\n",
       "      <th>texture_mean</th>\n",
       "      <th>perimeter_mean</th>\n",
       "      <th>area_mean</th>\n",
       "      <th>smoothness_mean</th>\n",
       "      <th>compactness_mean</th>\n",
       "      <th>concavity_mean</th>\n",
       "      <th>concave points_mean</th>\n",
       "      <th>...</th>\n",
       "      <th>radius_worst</th>\n",
       "      <th>texture_worst</th>\n",
       "      <th>perimeter_worst</th>\n",
       "      <th>area_worst</th>\n",
       "      <th>smoothness_worst</th>\n",
       "      <th>compactness_worst</th>\n",
       "      <th>concavity_worst</th>\n",
       "      <th>concave points_worst</th>\n",
       "      <th>symmetry_worst</th>\n",
       "      <th>fractal_dimension_worst</th>\n",
       "    </tr>\n",
       "  </thead>\n",
       "  <tbody>\n",
       "    <tr>\n",
       "      <th>0</th>\n",
       "      <td>842302</td>\n",
       "      <td>1</td>\n",
       "      <td>17.99</td>\n",
       "      <td>10.38</td>\n",
       "      <td>122.80</td>\n",
       "      <td>1001.0</td>\n",
       "      <td>0.11840</td>\n",
       "      <td>0.27760</td>\n",
       "      <td>0.30010</td>\n",
       "      <td>0.14710</td>\n",
       "      <td>...</td>\n",
       "      <td>25.380</td>\n",
       "      <td>17.33</td>\n",
       "      <td>184.60</td>\n",
       "      <td>2019.0</td>\n",
       "      <td>0.16220</td>\n",
       "      <td>0.66560</td>\n",
       "      <td>0.7119</td>\n",
       "      <td>0.2654</td>\n",
       "      <td>0.4601</td>\n",
       "      <td>0.11890</td>\n",
       "    </tr>\n",
       "    <tr>\n",
       "      <th>1</th>\n",
       "      <td>842517</td>\n",
       "      <td>1</td>\n",
       "      <td>20.57</td>\n",
       "      <td>17.77</td>\n",
       "      <td>132.90</td>\n",
       "      <td>1326.0</td>\n",
       "      <td>0.08474</td>\n",
       "      <td>0.07864</td>\n",
       "      <td>0.08690</td>\n",
       "      <td>0.07017</td>\n",
       "      <td>...</td>\n",
       "      <td>24.990</td>\n",
       "      <td>23.41</td>\n",
       "      <td>158.80</td>\n",
       "      <td>1956.0</td>\n",
       "      <td>0.12380</td>\n",
       "      <td>0.18660</td>\n",
       "      <td>0.2416</td>\n",
       "      <td>0.1860</td>\n",
       "      <td>0.2750</td>\n",
       "      <td>0.08902</td>\n",
       "    </tr>\n",
       "    <tr>\n",
       "      <th>2</th>\n",
       "      <td>84300903</td>\n",
       "      <td>1</td>\n",
       "      <td>19.69</td>\n",
       "      <td>21.25</td>\n",
       "      <td>130.00</td>\n",
       "      <td>1203.0</td>\n",
       "      <td>0.10960</td>\n",
       "      <td>0.15990</td>\n",
       "      <td>0.19740</td>\n",
       "      <td>0.12790</td>\n",
       "      <td>...</td>\n",
       "      <td>23.570</td>\n",
       "      <td>25.53</td>\n",
       "      <td>152.50</td>\n",
       "      <td>1709.0</td>\n",
       "      <td>0.14440</td>\n",
       "      <td>0.42450</td>\n",
       "      <td>0.4504</td>\n",
       "      <td>0.2430</td>\n",
       "      <td>0.3613</td>\n",
       "      <td>0.08758</td>\n",
       "    </tr>\n",
       "    <tr>\n",
       "      <th>3</th>\n",
       "      <td>84348301</td>\n",
       "      <td>1</td>\n",
       "      <td>11.42</td>\n",
       "      <td>20.38</td>\n",
       "      <td>77.58</td>\n",
       "      <td>386.1</td>\n",
       "      <td>0.14250</td>\n",
       "      <td>0.28390</td>\n",
       "      <td>0.24140</td>\n",
       "      <td>0.10520</td>\n",
       "      <td>...</td>\n",
       "      <td>14.910</td>\n",
       "      <td>26.50</td>\n",
       "      <td>98.87</td>\n",
       "      <td>567.7</td>\n",
       "      <td>0.20980</td>\n",
       "      <td>0.86630</td>\n",
       "      <td>0.6869</td>\n",
       "      <td>0.2575</td>\n",
       "      <td>0.6638</td>\n",
       "      <td>0.17300</td>\n",
       "    </tr>\n",
       "    <tr>\n",
       "      <th>4</th>\n",
       "      <td>84358402</td>\n",
       "      <td>1</td>\n",
       "      <td>20.29</td>\n",
       "      <td>14.34</td>\n",
       "      <td>135.10</td>\n",
       "      <td>1297.0</td>\n",
       "      <td>0.10030</td>\n",
       "      <td>0.13280</td>\n",
       "      <td>0.19800</td>\n",
       "      <td>0.10430</td>\n",
       "      <td>...</td>\n",
       "      <td>22.540</td>\n",
       "      <td>16.67</td>\n",
       "      <td>152.20</td>\n",
       "      <td>1575.0</td>\n",
       "      <td>0.13740</td>\n",
       "      <td>0.20500</td>\n",
       "      <td>0.4000</td>\n",
       "      <td>0.1625</td>\n",
       "      <td>0.2364</td>\n",
       "      <td>0.07678</td>\n",
       "    </tr>\n",
       "    <tr>\n",
       "      <th>...</th>\n",
       "      <td>...</td>\n",
       "      <td>...</td>\n",
       "      <td>...</td>\n",
       "      <td>...</td>\n",
       "      <td>...</td>\n",
       "      <td>...</td>\n",
       "      <td>...</td>\n",
       "      <td>...</td>\n",
       "      <td>...</td>\n",
       "      <td>...</td>\n",
       "      <td>...</td>\n",
       "      <td>...</td>\n",
       "      <td>...</td>\n",
       "      <td>...</td>\n",
       "      <td>...</td>\n",
       "      <td>...</td>\n",
       "      <td>...</td>\n",
       "      <td>...</td>\n",
       "      <td>...</td>\n",
       "      <td>...</td>\n",
       "      <td>...</td>\n",
       "    </tr>\n",
       "    <tr>\n",
       "      <th>564</th>\n",
       "      <td>926424</td>\n",
       "      <td>1</td>\n",
       "      <td>21.56</td>\n",
       "      <td>22.39</td>\n",
       "      <td>142.00</td>\n",
       "      <td>1479.0</td>\n",
       "      <td>0.11100</td>\n",
       "      <td>0.11590</td>\n",
       "      <td>0.24390</td>\n",
       "      <td>0.13890</td>\n",
       "      <td>...</td>\n",
       "      <td>25.450</td>\n",
       "      <td>26.40</td>\n",
       "      <td>166.10</td>\n",
       "      <td>2027.0</td>\n",
       "      <td>0.14100</td>\n",
       "      <td>0.21130</td>\n",
       "      <td>0.4107</td>\n",
       "      <td>0.2216</td>\n",
       "      <td>0.2060</td>\n",
       "      <td>0.07115</td>\n",
       "    </tr>\n",
       "    <tr>\n",
       "      <th>565</th>\n",
       "      <td>926682</td>\n",
       "      <td>1</td>\n",
       "      <td>20.13</td>\n",
       "      <td>28.25</td>\n",
       "      <td>131.20</td>\n",
       "      <td>1261.0</td>\n",
       "      <td>0.09780</td>\n",
       "      <td>0.10340</td>\n",
       "      <td>0.14400</td>\n",
       "      <td>0.09791</td>\n",
       "      <td>...</td>\n",
       "      <td>23.690</td>\n",
       "      <td>38.25</td>\n",
       "      <td>155.00</td>\n",
       "      <td>1731.0</td>\n",
       "      <td>0.11660</td>\n",
       "      <td>0.19220</td>\n",
       "      <td>0.3215</td>\n",
       "      <td>0.1628</td>\n",
       "      <td>0.2572</td>\n",
       "      <td>0.06637</td>\n",
       "    </tr>\n",
       "    <tr>\n",
       "      <th>566</th>\n",
       "      <td>926954</td>\n",
       "      <td>1</td>\n",
       "      <td>16.60</td>\n",
       "      <td>28.08</td>\n",
       "      <td>108.30</td>\n",
       "      <td>858.1</td>\n",
       "      <td>0.08455</td>\n",
       "      <td>0.10230</td>\n",
       "      <td>0.09251</td>\n",
       "      <td>0.05302</td>\n",
       "      <td>...</td>\n",
       "      <td>18.980</td>\n",
       "      <td>34.12</td>\n",
       "      <td>126.70</td>\n",
       "      <td>1124.0</td>\n",
       "      <td>0.11390</td>\n",
       "      <td>0.30940</td>\n",
       "      <td>0.3403</td>\n",
       "      <td>0.1418</td>\n",
       "      <td>0.2218</td>\n",
       "      <td>0.07820</td>\n",
       "    </tr>\n",
       "    <tr>\n",
       "      <th>567</th>\n",
       "      <td>927241</td>\n",
       "      <td>1</td>\n",
       "      <td>20.60</td>\n",
       "      <td>29.33</td>\n",
       "      <td>140.10</td>\n",
       "      <td>1265.0</td>\n",
       "      <td>0.11780</td>\n",
       "      <td>0.27700</td>\n",
       "      <td>0.35140</td>\n",
       "      <td>0.15200</td>\n",
       "      <td>...</td>\n",
       "      <td>25.740</td>\n",
       "      <td>39.42</td>\n",
       "      <td>184.60</td>\n",
       "      <td>1821.0</td>\n",
       "      <td>0.16500</td>\n",
       "      <td>0.86810</td>\n",
       "      <td>0.9387</td>\n",
       "      <td>0.2650</td>\n",
       "      <td>0.4087</td>\n",
       "      <td>0.12400</td>\n",
       "    </tr>\n",
       "    <tr>\n",
       "      <th>568</th>\n",
       "      <td>92751</td>\n",
       "      <td>0</td>\n",
       "      <td>7.76</td>\n",
       "      <td>24.54</td>\n",
       "      <td>47.92</td>\n",
       "      <td>181.0</td>\n",
       "      <td>0.05263</td>\n",
       "      <td>0.04362</td>\n",
       "      <td>0.00000</td>\n",
       "      <td>0.00000</td>\n",
       "      <td>...</td>\n",
       "      <td>9.456</td>\n",
       "      <td>30.37</td>\n",
       "      <td>59.16</td>\n",
       "      <td>268.6</td>\n",
       "      <td>0.08996</td>\n",
       "      <td>0.06444</td>\n",
       "      <td>0.0000</td>\n",
       "      <td>0.0000</td>\n",
       "      <td>0.2871</td>\n",
       "      <td>0.07039</td>\n",
       "    </tr>\n",
       "  </tbody>\n",
       "</table>\n",
       "<p>569 rows × 32 columns</p>\n",
       "</div>"
      ],
      "text/plain": [
       "           id  diagnosis  radius_mean  texture_mean  perimeter_mean  \\\n",
       "0      842302          1        17.99         10.38          122.80   \n",
       "1      842517          1        20.57         17.77          132.90   \n",
       "2    84300903          1        19.69         21.25          130.00   \n",
       "3    84348301          1        11.42         20.38           77.58   \n",
       "4    84358402          1        20.29         14.34          135.10   \n",
       "..        ...        ...          ...           ...             ...   \n",
       "564    926424          1        21.56         22.39          142.00   \n",
       "565    926682          1        20.13         28.25          131.20   \n",
       "566    926954          1        16.60         28.08          108.30   \n",
       "567    927241          1        20.60         29.33          140.10   \n",
       "568     92751          0         7.76         24.54           47.92   \n",
       "\n",
       "     area_mean  smoothness_mean  compactness_mean  concavity_mean  \\\n",
       "0       1001.0          0.11840           0.27760         0.30010   \n",
       "1       1326.0          0.08474           0.07864         0.08690   \n",
       "2       1203.0          0.10960           0.15990         0.19740   \n",
       "3        386.1          0.14250           0.28390         0.24140   \n",
       "4       1297.0          0.10030           0.13280         0.19800   \n",
       "..         ...              ...               ...             ...   \n",
       "564     1479.0          0.11100           0.11590         0.24390   \n",
       "565     1261.0          0.09780           0.10340         0.14400   \n",
       "566      858.1          0.08455           0.10230         0.09251   \n",
       "567     1265.0          0.11780           0.27700         0.35140   \n",
       "568      181.0          0.05263           0.04362         0.00000   \n",
       "\n",
       "     concave points_mean  ...  radius_worst  texture_worst  perimeter_worst  \\\n",
       "0                0.14710  ...        25.380          17.33           184.60   \n",
       "1                0.07017  ...        24.990          23.41           158.80   \n",
       "2                0.12790  ...        23.570          25.53           152.50   \n",
       "3                0.10520  ...        14.910          26.50            98.87   \n",
       "4                0.10430  ...        22.540          16.67           152.20   \n",
       "..                   ...  ...           ...            ...              ...   \n",
       "564              0.13890  ...        25.450          26.40           166.10   \n",
       "565              0.09791  ...        23.690          38.25           155.00   \n",
       "566              0.05302  ...        18.980          34.12           126.70   \n",
       "567              0.15200  ...        25.740          39.42           184.60   \n",
       "568              0.00000  ...         9.456          30.37            59.16   \n",
       "\n",
       "     area_worst  smoothness_worst  compactness_worst  concavity_worst  \\\n",
       "0        2019.0           0.16220            0.66560           0.7119   \n",
       "1        1956.0           0.12380            0.18660           0.2416   \n",
       "2        1709.0           0.14440            0.42450           0.4504   \n",
       "3         567.7           0.20980            0.86630           0.6869   \n",
       "4        1575.0           0.13740            0.20500           0.4000   \n",
       "..          ...               ...                ...              ...   \n",
       "564      2027.0           0.14100            0.21130           0.4107   \n",
       "565      1731.0           0.11660            0.19220           0.3215   \n",
       "566      1124.0           0.11390            0.30940           0.3403   \n",
       "567      1821.0           0.16500            0.86810           0.9387   \n",
       "568       268.6           0.08996            0.06444           0.0000   \n",
       "\n",
       "     concave points_worst  symmetry_worst  fractal_dimension_worst  \n",
       "0                  0.2654          0.4601                  0.11890  \n",
       "1                  0.1860          0.2750                  0.08902  \n",
       "2                  0.2430          0.3613                  0.08758  \n",
       "3                  0.2575          0.6638                  0.17300  \n",
       "4                  0.1625          0.2364                  0.07678  \n",
       "..                    ...             ...                      ...  \n",
       "564                0.2216          0.2060                  0.07115  \n",
       "565                0.1628          0.2572                  0.06637  \n",
       "566                0.1418          0.2218                  0.07820  \n",
       "567                0.2650          0.4087                  0.12400  \n",
       "568                0.0000          0.2871                  0.07039  \n",
       "\n",
       "[569 rows x 32 columns]"
      ]
     },
     "execution_count": 14,
     "metadata": {},
     "output_type": "execute_result"
    }
   ],
   "source": [
    "df"
   ]
  },
  {
   "cell_type": "code",
   "execution_count": 15,
   "id": "55640a03",
   "metadata": {
    "execution": {
     "iopub.execute_input": "2022-05-03T12:10:08.587847Z",
     "iopub.status.busy": "2022-05-03T12:10:08.587358Z",
     "iopub.status.idle": "2022-05-03T12:10:08.681777Z",
     "shell.execute_reply": "2022-05-03T12:10:08.681001Z"
    },
    "papermill": {
     "duration": 0.154576,
     "end_time": "2022-05-03T12:10:08.683756",
     "exception": false,
     "start_time": "2022-05-03T12:10:08.529180",
     "status": "completed"
    },
    "tags": []
   },
   "outputs": [
    {
     "data": {
      "text/html": [
       "<div>\n",
       "<style scoped>\n",
       "    .dataframe tbody tr th:only-of-type {\n",
       "        vertical-align: middle;\n",
       "    }\n",
       "\n",
       "    .dataframe tbody tr th {\n",
       "        vertical-align: top;\n",
       "    }\n",
       "\n",
       "    .dataframe thead th {\n",
       "        text-align: right;\n",
       "    }\n",
       "</style>\n",
       "<table border=\"1\" class=\"dataframe\">\n",
       "  <thead>\n",
       "    <tr style=\"text-align: right;\">\n",
       "      <th></th>\n",
       "      <th>id</th>\n",
       "      <th>diagnosis</th>\n",
       "      <th>radius_mean</th>\n",
       "      <th>texture_mean</th>\n",
       "      <th>perimeter_mean</th>\n",
       "      <th>area_mean</th>\n",
       "      <th>smoothness_mean</th>\n",
       "      <th>compactness_mean</th>\n",
       "      <th>concavity_mean</th>\n",
       "      <th>concave points_mean</th>\n",
       "      <th>...</th>\n",
       "      <th>radius_worst</th>\n",
       "      <th>texture_worst</th>\n",
       "      <th>perimeter_worst</th>\n",
       "      <th>area_worst</th>\n",
       "      <th>smoothness_worst</th>\n",
       "      <th>compactness_worst</th>\n",
       "      <th>concavity_worst</th>\n",
       "      <th>concave points_worst</th>\n",
       "      <th>symmetry_worst</th>\n",
       "      <th>fractal_dimension_worst</th>\n",
       "    </tr>\n",
       "  </thead>\n",
       "  <tbody>\n",
       "    <tr>\n",
       "      <th>count</th>\n",
       "      <td>5.690000e+02</td>\n",
       "      <td>569.000000</td>\n",
       "      <td>569.000000</td>\n",
       "      <td>569.000000</td>\n",
       "      <td>569.000000</td>\n",
       "      <td>569.000000</td>\n",
       "      <td>569.000000</td>\n",
       "      <td>569.000000</td>\n",
       "      <td>569.000000</td>\n",
       "      <td>569.000000</td>\n",
       "      <td>...</td>\n",
       "      <td>569.000000</td>\n",
       "      <td>569.000000</td>\n",
       "      <td>569.000000</td>\n",
       "      <td>569.000000</td>\n",
       "      <td>569.000000</td>\n",
       "      <td>569.000000</td>\n",
       "      <td>569.000000</td>\n",
       "      <td>569.000000</td>\n",
       "      <td>569.000000</td>\n",
       "      <td>569.000000</td>\n",
       "    </tr>\n",
       "    <tr>\n",
       "      <th>mean</th>\n",
       "      <td>3.037183e+07</td>\n",
       "      <td>0.372583</td>\n",
       "      <td>14.127292</td>\n",
       "      <td>19.289649</td>\n",
       "      <td>91.969033</td>\n",
       "      <td>654.889104</td>\n",
       "      <td>0.096360</td>\n",
       "      <td>0.104341</td>\n",
       "      <td>0.088799</td>\n",
       "      <td>0.048919</td>\n",
       "      <td>...</td>\n",
       "      <td>16.269190</td>\n",
       "      <td>25.677223</td>\n",
       "      <td>107.261213</td>\n",
       "      <td>880.583128</td>\n",
       "      <td>0.132369</td>\n",
       "      <td>0.254265</td>\n",
       "      <td>0.272188</td>\n",
       "      <td>0.114606</td>\n",
       "      <td>0.290076</td>\n",
       "      <td>0.083946</td>\n",
       "    </tr>\n",
       "    <tr>\n",
       "      <th>std</th>\n",
       "      <td>1.250206e+08</td>\n",
       "      <td>0.483918</td>\n",
       "      <td>3.524049</td>\n",
       "      <td>4.301036</td>\n",
       "      <td>24.298981</td>\n",
       "      <td>351.914129</td>\n",
       "      <td>0.014064</td>\n",
       "      <td>0.052813</td>\n",
       "      <td>0.079720</td>\n",
       "      <td>0.038803</td>\n",
       "      <td>...</td>\n",
       "      <td>4.833242</td>\n",
       "      <td>6.146258</td>\n",
       "      <td>33.602542</td>\n",
       "      <td>569.356993</td>\n",
       "      <td>0.022832</td>\n",
       "      <td>0.157336</td>\n",
       "      <td>0.208624</td>\n",
       "      <td>0.065732</td>\n",
       "      <td>0.061867</td>\n",
       "      <td>0.018061</td>\n",
       "    </tr>\n",
       "    <tr>\n",
       "      <th>min</th>\n",
       "      <td>8.670000e+03</td>\n",
       "      <td>0.000000</td>\n",
       "      <td>6.981000</td>\n",
       "      <td>9.710000</td>\n",
       "      <td>43.790000</td>\n",
       "      <td>143.500000</td>\n",
       "      <td>0.052630</td>\n",
       "      <td>0.019380</td>\n",
       "      <td>0.000000</td>\n",
       "      <td>0.000000</td>\n",
       "      <td>...</td>\n",
       "      <td>7.930000</td>\n",
       "      <td>12.020000</td>\n",
       "      <td>50.410000</td>\n",
       "      <td>185.200000</td>\n",
       "      <td>0.071170</td>\n",
       "      <td>0.027290</td>\n",
       "      <td>0.000000</td>\n",
       "      <td>0.000000</td>\n",
       "      <td>0.156500</td>\n",
       "      <td>0.055040</td>\n",
       "    </tr>\n",
       "    <tr>\n",
       "      <th>25%</th>\n",
       "      <td>8.692180e+05</td>\n",
       "      <td>0.000000</td>\n",
       "      <td>11.700000</td>\n",
       "      <td>16.170000</td>\n",
       "      <td>75.170000</td>\n",
       "      <td>420.300000</td>\n",
       "      <td>0.086370</td>\n",
       "      <td>0.064920</td>\n",
       "      <td>0.029560</td>\n",
       "      <td>0.020310</td>\n",
       "      <td>...</td>\n",
       "      <td>13.010000</td>\n",
       "      <td>21.080000</td>\n",
       "      <td>84.110000</td>\n",
       "      <td>515.300000</td>\n",
       "      <td>0.116600</td>\n",
       "      <td>0.147200</td>\n",
       "      <td>0.114500</td>\n",
       "      <td>0.064930</td>\n",
       "      <td>0.250400</td>\n",
       "      <td>0.071460</td>\n",
       "    </tr>\n",
       "    <tr>\n",
       "      <th>50%</th>\n",
       "      <td>9.060240e+05</td>\n",
       "      <td>0.000000</td>\n",
       "      <td>13.370000</td>\n",
       "      <td>18.840000</td>\n",
       "      <td>86.240000</td>\n",
       "      <td>551.100000</td>\n",
       "      <td>0.095870</td>\n",
       "      <td>0.092630</td>\n",
       "      <td>0.061540</td>\n",
       "      <td>0.033500</td>\n",
       "      <td>...</td>\n",
       "      <td>14.970000</td>\n",
       "      <td>25.410000</td>\n",
       "      <td>97.660000</td>\n",
       "      <td>686.500000</td>\n",
       "      <td>0.131300</td>\n",
       "      <td>0.211900</td>\n",
       "      <td>0.226700</td>\n",
       "      <td>0.099930</td>\n",
       "      <td>0.282200</td>\n",
       "      <td>0.080040</td>\n",
       "    </tr>\n",
       "    <tr>\n",
       "      <th>75%</th>\n",
       "      <td>8.813129e+06</td>\n",
       "      <td>1.000000</td>\n",
       "      <td>15.780000</td>\n",
       "      <td>21.800000</td>\n",
       "      <td>104.100000</td>\n",
       "      <td>782.700000</td>\n",
       "      <td>0.105300</td>\n",
       "      <td>0.130400</td>\n",
       "      <td>0.130700</td>\n",
       "      <td>0.074000</td>\n",
       "      <td>...</td>\n",
       "      <td>18.790000</td>\n",
       "      <td>29.720000</td>\n",
       "      <td>125.400000</td>\n",
       "      <td>1084.000000</td>\n",
       "      <td>0.146000</td>\n",
       "      <td>0.339100</td>\n",
       "      <td>0.382900</td>\n",
       "      <td>0.161400</td>\n",
       "      <td>0.317900</td>\n",
       "      <td>0.092080</td>\n",
       "    </tr>\n",
       "    <tr>\n",
       "      <th>max</th>\n",
       "      <td>9.113205e+08</td>\n",
       "      <td>1.000000</td>\n",
       "      <td>28.110000</td>\n",
       "      <td>39.280000</td>\n",
       "      <td>188.500000</td>\n",
       "      <td>2501.000000</td>\n",
       "      <td>0.163400</td>\n",
       "      <td>0.345400</td>\n",
       "      <td>0.426800</td>\n",
       "      <td>0.201200</td>\n",
       "      <td>...</td>\n",
       "      <td>36.040000</td>\n",
       "      <td>49.540000</td>\n",
       "      <td>251.200000</td>\n",
       "      <td>4254.000000</td>\n",
       "      <td>0.222600</td>\n",
       "      <td>1.058000</td>\n",
       "      <td>1.252000</td>\n",
       "      <td>0.291000</td>\n",
       "      <td>0.663800</td>\n",
       "      <td>0.207500</td>\n",
       "    </tr>\n",
       "  </tbody>\n",
       "</table>\n",
       "<p>8 rows × 32 columns</p>\n",
       "</div>"
      ],
      "text/plain": [
       "                 id   diagnosis  radius_mean  texture_mean  perimeter_mean  \\\n",
       "count  5.690000e+02  569.000000   569.000000    569.000000      569.000000   \n",
       "mean   3.037183e+07    0.372583    14.127292     19.289649       91.969033   \n",
       "std    1.250206e+08    0.483918     3.524049      4.301036       24.298981   \n",
       "min    8.670000e+03    0.000000     6.981000      9.710000       43.790000   \n",
       "25%    8.692180e+05    0.000000    11.700000     16.170000       75.170000   \n",
       "50%    9.060240e+05    0.000000    13.370000     18.840000       86.240000   \n",
       "75%    8.813129e+06    1.000000    15.780000     21.800000      104.100000   \n",
       "max    9.113205e+08    1.000000    28.110000     39.280000      188.500000   \n",
       "\n",
       "         area_mean  smoothness_mean  compactness_mean  concavity_mean  \\\n",
       "count   569.000000       569.000000        569.000000      569.000000   \n",
       "mean    654.889104         0.096360          0.104341        0.088799   \n",
       "std     351.914129         0.014064          0.052813        0.079720   \n",
       "min     143.500000         0.052630          0.019380        0.000000   \n",
       "25%     420.300000         0.086370          0.064920        0.029560   \n",
       "50%     551.100000         0.095870          0.092630        0.061540   \n",
       "75%     782.700000         0.105300          0.130400        0.130700   \n",
       "max    2501.000000         0.163400          0.345400        0.426800   \n",
       "\n",
       "       concave points_mean  ...  radius_worst  texture_worst  perimeter_worst  \\\n",
       "count           569.000000  ...    569.000000     569.000000       569.000000   \n",
       "mean              0.048919  ...     16.269190      25.677223       107.261213   \n",
       "std               0.038803  ...      4.833242       6.146258        33.602542   \n",
       "min               0.000000  ...      7.930000      12.020000        50.410000   \n",
       "25%               0.020310  ...     13.010000      21.080000        84.110000   \n",
       "50%               0.033500  ...     14.970000      25.410000        97.660000   \n",
       "75%               0.074000  ...     18.790000      29.720000       125.400000   \n",
       "max               0.201200  ...     36.040000      49.540000       251.200000   \n",
       "\n",
       "        area_worst  smoothness_worst  compactness_worst  concavity_worst  \\\n",
       "count   569.000000        569.000000         569.000000       569.000000   \n",
       "mean    880.583128          0.132369           0.254265         0.272188   \n",
       "std     569.356993          0.022832           0.157336         0.208624   \n",
       "min     185.200000          0.071170           0.027290         0.000000   \n",
       "25%     515.300000          0.116600           0.147200         0.114500   \n",
       "50%     686.500000          0.131300           0.211900         0.226700   \n",
       "75%    1084.000000          0.146000           0.339100         0.382900   \n",
       "max    4254.000000          0.222600           1.058000         1.252000   \n",
       "\n",
       "       concave points_worst  symmetry_worst  fractal_dimension_worst  \n",
       "count            569.000000      569.000000               569.000000  \n",
       "mean               0.114606        0.290076                 0.083946  \n",
       "std                0.065732        0.061867                 0.018061  \n",
       "min                0.000000        0.156500                 0.055040  \n",
       "25%                0.064930        0.250400                 0.071460  \n",
       "50%                0.099930        0.282200                 0.080040  \n",
       "75%                0.161400        0.317900                 0.092080  \n",
       "max                0.291000        0.663800                 0.207500  \n",
       "\n",
       "[8 rows x 32 columns]"
      ]
     },
     "execution_count": 15,
     "metadata": {},
     "output_type": "execute_result"
    }
   ],
   "source": [
    "df.describe()"
   ]
  },
  {
   "cell_type": "code",
   "execution_count": 16,
   "id": "88a70db4",
   "metadata": {
    "execution": {
     "iopub.execute_input": "2022-05-03T12:10:08.800460Z",
     "iopub.status.busy": "2022-05-03T12:10:08.799907Z",
     "iopub.status.idle": "2022-05-03T12:10:09.048276Z",
     "shell.execute_reply": "2022-05-03T12:10:09.047232Z"
    },
    "papermill": {
     "duration": 0.308946,
     "end_time": "2022-05-03T12:10:09.050544",
     "exception": false,
     "start_time": "2022-05-03T12:10:08.741598",
     "status": "completed"
    },
    "tags": []
   },
   "outputs": [
    {
     "data": {
      "image/png": "[encoded data removed]",
      "text/plain": [
       "<Figure size 432x288 with 1 Axes>"
      ]
     },
     "metadata": {},
     "output_type": "display_data"
    }
   ],
   "source": [
    "a = plt.hist(df[df[\"diagnosis\"] == 1]['radius_mean'],bins=20,fc = (1,0,0,0.4),label = \"Malignant\")\n",
    "b = plt.hist(df[df[\"diagnosis\"] == 0]['radius_mean'],bins=20,fc = (0,1,0,0.4),label = \"Benign\")\n",
    "plt.xlabel(\"Radius Mean Values\")\n",
    "plt.ylabel(\"Frequency\")\n",
    "plt.title(\"Radius of Bening and Malignant Tumors\")\n",
    "plt.show()\n"
   ]
  },
  {
   "cell_type": "code",
   "execution_count": 17,
   "id": "a58be45a",
   "metadata": {
    "execution": {
     "iopub.execute_input": "2022-05-03T12:10:09.165241Z",
     "iopub.status.busy": "2022-05-03T12:10:09.164350Z",
     "iopub.status.idle": "2022-05-03T12:10:09.168238Z",
     "shell.execute_reply": "2022-05-03T12:10:09.167501Z"
    },
    "papermill": {
     "duration": 0.062972,
     "end_time": "2022-05-03T12:10:09.170052",
     "exception": false,
     "start_time": "2022-05-03T12:10:09.107080",
     "status": "completed"
    },
    "tags": []
   },
   "outputs": [],
   "source": [
    "#Watch all of the graphs to decide which column should be dropped."
   ]
  },
  {
   "cell_type": "code",
   "execution_count": 18,
   "id": "c041f38d",
   "metadata": {
    "execution": {
     "iopub.execute_input": "2022-05-03T12:10:09.285726Z",
     "iopub.status.busy": "2022-05-03T12:10:09.285277Z",
     "iopub.status.idle": "2022-05-03T12:10:09.291602Z",
     "shell.execute_reply": "2022-05-03T12:10:09.290896Z"
    },
    "papermill": {
     "duration": 0.06627,
     "end_time": "2022-05-03T12:10:09.293450",
     "exception": false,
     "start_time": "2022-05-03T12:10:09.227180",
     "status": "completed"
    },
    "tags": []
   },
   "outputs": [],
   "source": [
    "def hist(x,i):\n",
    "    plt.subplot(1,5,i)\n",
    "    plt.hist(df[df[\"diagnosis\"] == 1][x],bins=20,fc = (1,0,0,0.4),label = \"Malignant\")\n",
    "    plt.hist(df[df[\"diagnosis\"] == 0][x],bins=20,fc = (0,1,0,0.4),label = \"Benign\")\n",
    "    plt.title(x + ' of Benign and Malignant')\n",
    "    plt.xlabel(x)\n",
    "    plt.ylabel(\"Frequency\")"
   ]
  },
  {
   "cell_type": "code",
   "execution_count": 19,
   "id": "9f2d9057",
   "metadata": {
    "execution": {
     "iopub.execute_input": "2022-05-03T12:10:09.410953Z",
     "iopub.status.busy": "2022-05-03T12:10:09.410698Z",
     "iopub.status.idle": "2022-05-03T12:10:10.549512Z",
     "shell.execute_reply": "2022-05-03T12:10:10.548691Z"
    },
    "papermill": {
     "duration": 1.198506,
     "end_time": "2022-05-03T12:10:10.551405",
     "exception": false,
     "start_time": "2022-05-03T12:10:09.352899",
     "status": "completed"
    },
    "tags": []
   },
   "outputs": [
    {
     "data": {
      "image/png": "[encoded data removed]",
      "text/plain": [
       "<Figure size 1440x288 with 5 Axes>"
      ]
     },
     "metadata": {},
     "output_type": "display_data"
    }
   ],
   "source": [
    "plt.figure(figsize=(20,4))\n",
    "hist('radius_mean', 1)\n",
    "hist('texture_mean', 2)\n",
    "hist('perimeter_mean', 3)\n",
    "hist('area_mean', 4)\n",
    "hist('smoothness_mean', 5)"
   ]
  },
  {
   "cell_type": "code",
   "execution_count": 20,
   "id": "5fe581b2",
   "metadata": {
    "execution": {
     "iopub.execute_input": "2022-05-03T12:10:10.677097Z",
     "iopub.status.busy": "2022-05-03T12:10:10.676401Z",
     "iopub.status.idle": "2022-05-03T12:10:12.057124Z",
     "shell.execute_reply": "2022-05-03T12:10:12.056179Z"
    },
    "papermill": {
     "duration": 1.448149,
     "end_time": "2022-05-03T12:10:12.059297",
     "exception": false,
     "start_time": "2022-05-03T12:10:10.611148",
     "status": "completed"
    },
    "tags": []
   },
   "outputs": [
    {
     "data": {
      "image/png": "[encoded data removed]",
      "text/plain": [
       "<Figure size 1440x288 with 5 Axes>"
      ]
     },
     "metadata": {},
     "output_type": "display_data"
    }
   ],
   "source": [
    "plt.figure(figsize=(20,4))\n",
    "hist('radius_worst', 1)\n",
    "hist('texture_worst', 2)\n",
    "hist('perimeter_worst', 3)\n",
    "hist('area_worst', 4)\n",
    "hist('smoothness_worst', 5)"
   ]
  },
  {
   "cell_type": "code",
   "execution_count": 21,
   "id": "52d39d9d",
   "metadata": {
    "execution": {
     "iopub.execute_input": "2022-05-03T12:10:12.178177Z",
     "iopub.status.busy": "2022-05-03T12:10:12.177591Z",
     "iopub.status.idle": "2022-05-03T12:10:13.343201Z",
     "shell.execute_reply": "2022-05-03T12:10:13.342503Z"
    },
    "papermill": {
     "duration": 1.228033,
     "end_time": "2022-05-03T12:10:13.345200",
     "exception": false,
     "start_time": "2022-05-03T12:10:12.117167",
     "status": "completed"
    },
    "tags": []
   },
   "outputs": [
    {
     "data": {
      "image/png": "[encoded data removed]",
      "text/plain": [
       "<Figure size 1440x288 with 5 Axes>"
      ]
     },
     "metadata": {},
     "output_type": "display_data"
    }
   ],
   "source": [
    "plt.figure(figsize=(20,4))\n",
    "hist('compactness_mean', 1)\n",
    "hist('concavity_mean', 2)\n",
    "hist('concave points_mean', 3)\n",
    "hist('symmetry_mean', 4)\n",
    "hist('fractal_dimension_mean', 5)"
   ]
  },
  {
   "cell_type": "code",
   "execution_count": 22,
   "id": "c0f8ceaf",
   "metadata": {
    "execution": {
     "iopub.execute_input": "2022-05-03T12:10:13.472268Z",
     "iopub.status.busy": "2022-05-03T12:10:13.471988Z",
     "iopub.status.idle": "2022-05-03T12:10:14.639281Z",
     "shell.execute_reply": "2022-05-03T12:10:14.638770Z"
    },
    "papermill": {
     "duration": 1.23257,
     "end_time": "2022-05-03T12:10:14.641107",
     "exception": false,
     "start_time": "2022-05-03T12:10:13.408537",
     "status": "completed"
    },
    "tags": []
   },
   "outputs": [
    {
     "data": {
      "image/png": "[encoded data removed]",
      "text/plain": [
       "<Figure size 1440x288 with 5 Axes>"
      ]
     },
     "metadata": {},
     "output_type": "display_data"
    }
   ],
   "source": [
    "plt.figure(figsize=(20,4))\n",
    "hist('compactness_worst', 1)\n",
    "hist('concavity_worst', 2)\n",
    "hist('concave points_worst', 3)\n",
    "hist('symmetry_worst', 4)\n",
    "hist('fractal_dimension_worst', 5)"
   ]
  },
  {
   "cell_type": "code",
   "execution_count": 23,
   "id": "32c6ff18",
   "metadata": {
    "execution": {
     "iopub.execute_input": "2022-05-03T12:10:14.773723Z",
     "iopub.status.busy": "2022-05-03T12:10:14.773425Z",
     "iopub.status.idle": "2022-05-03T12:10:16.075834Z",
     "shell.execute_reply": "2022-05-03T12:10:16.074868Z"
    },
    "papermill": {
     "duration": 1.372212,
     "end_time": "2022-05-03T12:10:16.078248",
     "exception": false,
     "start_time": "2022-05-03T12:10:14.706036",
     "status": "completed"
    },
    "tags": []
   },
   "outputs": [
    {
     "data": {
      "image/png": "[encoded data removed]",
      "text/plain": [
       "<Figure size 1440x288 with 5 Axes>"
      ]
     },
     "metadata": {},
     "output_type": "display_data"
    }
   ],
   "source": [
    "plt.figure(figsize=(20,4))\n",
    "hist('radius_se', 1)\n",
    "hist('texture_se', 2)\n",
    "hist('perimeter_se', 3)\n",
    "hist('area_se', 4)\n",
    "hist('smoothness_se', 5)"
   ]
  },
  {
   "cell_type": "code",
   "execution_count": 24,
   "id": "777ca6cc",
   "metadata": {
    "execution": {
     "iopub.execute_input": "2022-05-03T12:10:16.210960Z",
     "iopub.status.busy": "2022-05-03T12:10:16.210696Z",
     "iopub.status.idle": "2022-05-03T12:10:17.372422Z",
     "shell.execute_reply": "2022-05-03T12:10:17.371649Z"
    },
    "papermill": {
     "duration": 1.232658,
     "end_time": "2022-05-03T12:10:17.375446",
     "exception": false,
     "start_time": "2022-05-03T12:10:16.142788",
     "status": "completed"
    },
    "tags": []
   },
   "outputs": [
    {
     "data": {
      "image/png": "[encoded data removed]",
      "text/plain": [
       "<Figure size 1440x288 with 5 Axes>"
      ]
     },
     "metadata": {},
     "output_type": "display_data"
    }
   ],
   "source": [
    "plt.figure(figsize=(20,4))\n",
    "hist('compactness_se', 1)\n",
    "hist('concavity_se', 2)\n",
    "hist('concave points_se', 3)\n",
    "hist('symmetry_se', 4)\n",
    "hist('fractal_dimension_se', 5)"
   ]
  },
  {
   "cell_type": "code",
   "execution_count": 25,
   "id": "8dafe350",
   "metadata": {
    "execution": {
     "iopub.execute_input": "2022-05-03T12:10:17.531508Z",
     "iopub.status.busy": "2022-05-03T12:10:17.531132Z",
     "iopub.status.idle": "2022-05-03T12:10:17.537074Z",
     "shell.execute_reply": "2022-05-03T12:10:17.536527Z"
    },
    "papermill": {
     "duration": 0.091749,
     "end_time": "2022-05-03T12:10:17.539319",
     "exception": false,
     "start_time": "2022-05-03T12:10:17.447570",
     "status": "completed"
    },
    "tags": []
   },
   "outputs": [],
   "source": [
    "def scatter(x,i):\n",
    "    plt.subplot(1,5,i)\n",
    "    plt.scatter(df[x],df['diagnosis'])\n",
    "    plt.title(x + ' of Benign and Malignant')\n",
    "    plt.xlabel(x)\n",
    "    plt.ylabel(\"diagnosis\")"
   ]
  },
  {
   "cell_type": "code",
   "execution_count": 26,
   "id": "ba891ec8",
   "metadata": {
    "execution": {
     "iopub.execute_input": "2022-05-03T12:10:17.673766Z",
     "iopub.status.busy": "2022-05-03T12:10:17.673395Z",
     "iopub.status.idle": "2022-05-03T12:10:18.506193Z",
     "shell.execute_reply": "2022-05-03T12:10:18.505389Z"
    },
    "papermill": {
     "duration": 0.902286,
     "end_time": "2022-05-03T12:10:18.508299",
     "exception": false,
     "start_time": "2022-05-03T12:10:17.606013",
     "status": "completed"
    },
    "tags": []
   },
   "outputs": [
    {
     "data": {
      "image/png": "[encoded data removed]",
      "text/plain": [
       "<Figure size 1440x288 with 5 Axes>"
      ]
     },
     "metadata": {},
     "output_type": "display_data"
    }
   ],
   "source": [
    "plt.figure(figsize=(20,4))\n",
    "scatter('radius_mean', 1)\n",
    "scatter('texture_mean', 2)\n",
    "scatter('perimeter_mean', 3)\n",
    "scatter('area_mean', 4)\n",
    "scatter('smoothness_mean', 5)"
   ]
  },
  {
   "cell_type": "code",
   "execution_count": 27,
   "id": "04bc400c",
   "metadata": {
    "execution": {
     "iopub.execute_input": "2022-05-03T12:10:18.649622Z",
     "iopub.status.busy": "2022-05-03T12:10:18.648849Z",
     "iopub.status.idle": "2022-05-03T12:10:19.513186Z",
     "shell.execute_reply": "2022-05-03T12:10:19.512438Z"
    },
    "papermill": {
     "duration": 0.937671,
     "end_time": "2022-05-03T12:10:19.515324",
     "exception": false,
     "start_time": "2022-05-03T12:10:18.577653",
     "status": "completed"
    },
    "tags": []
   },
   "outputs": [
    {
     "data": {
      "image/png": "[encoded data removed]",
      "text/plain": [
       "<Figure size 1440x288 with 5 Axes>"
      ]
     },
     "metadata": {},
     "output_type": "display_data"
    }
   ],
   "source": [
    "plt.figure(figsize=(20,4))\n",
    "scatter('radius_worst', 1)\n",
    "scatter('texture_worst', 2)\n",
    "scatter('perimeter_worst', 3)\n",
    "scatter('area_worst', 4)\n",
    "scatter('smoothness_worst', 5)"
   ]
  },
  {
   "cell_type": "code",
   "execution_count": 28,
   "id": "442bcd5a",
   "metadata": {
    "execution": {
     "iopub.execute_input": "2022-05-03T12:10:19.658489Z",
     "iopub.status.busy": "2022-05-03T12:10:19.657879Z",
     "iopub.status.idle": "2022-05-03T12:10:20.670330Z",
     "shell.execute_reply": "2022-05-03T12:10:20.669583Z"
    },
    "papermill": {
     "duration": 1.085619,
     "end_time": "2022-05-03T12:10:20.672402",
     "exception": false,
     "start_time": "2022-05-03T12:10:19.586783",
     "status": "completed"
    },
    "tags": []
   },
   "outputs": [
    {
     "data": {
      "image/png": "[encoded data removed]",
      "text/plain": [
       "<Figure size 1440x288 with 5 Axes>"
      ]
     },
     "metadata": {},
     "output_type": "display_data"
    }
   ],
   "source": [
    "plt.figure(figsize=(20,4))\n",
    "scatter('compactness_mean', 1)\n",
    "scatter('concavity_mean', 2)\n",
    "scatter('concave points_mean', 3)\n",
    "scatter('symmetry_mean', 4)\n",
    "scatter('fractal_dimension_mean', 5)"
   ]
  },
  {
   "cell_type": "code",
   "execution_count": 29,
   "id": "4d4b80fd",
   "metadata": {
    "execution": {
     "iopub.execute_input": "2022-05-03T12:10:20.820369Z",
     "iopub.status.busy": "2022-05-03T12:10:20.819909Z",
     "iopub.status.idle": "2022-05-03T12:10:21.656230Z",
     "shell.execute_reply": "2022-05-03T12:10:21.655429Z"
    },
    "papermill": {
     "duration": 0.91296,
     "end_time": "2022-05-03T12:10:21.658685",
     "exception": false,
     "start_time": "2022-05-03T12:10:20.745725",
     "status": "completed"
    },
    "tags": []
   },
   "outputs": [
    {
     "data": {
      "image/png": "[encoded data removed]",
      "text/plain": [
       "<Figure size 1440x288 with 5 Axes>"
      ]
     },
     "metadata": {},
     "output_type": "display_data"
    }
   ],
   "source": [
    "plt.figure(figsize=(20,4))\n",
    "scatter('compactness_worst', 1)\n",
    "scatter('concavity_worst', 2)\n",
    "scatter('concave points_worst', 3)\n",
    "scatter('symmetry_worst', 4)\n",
    "scatter('fractal_dimension_worst', 5)"
   ]
  },
  {
   "cell_type": "code",
   "execution_count": 30,
   "id": "faf3b994",
   "metadata": {
    "execution": {
     "iopub.execute_input": "2022-05-03T12:10:21.802947Z",
     "iopub.status.busy": "2022-05-03T12:10:21.802632Z",
     "iopub.status.idle": "2022-05-03T12:10:22.629311Z",
     "shell.execute_reply": "2022-05-03T12:10:22.628629Z"
    },
    "papermill": {
     "duration": 0.900469,
     "end_time": "2022-05-03T12:10:22.631611",
     "exception": false,
     "start_time": "2022-05-03T12:10:21.731142",
     "status": "completed"
    },
    "tags": []
   },
   "outputs": [
    {
     "data": {
      "image/png": "[encoded data removed]",
      "text/plain": [
       "<Figure size 1440x288 with 5 Axes>"
      ]
     },
     "metadata": {},
     "output_type": "display_data"
    }
   ],
   "source": [
    "plt.figure(figsize=(20,4))\n",
    "scatter('radius_se', 1)\n",
    "scatter('texture_se', 2)\n",
    "scatter('perimeter_se', 3)\n",
    "scatter('area_se', 4)\n",
    "scatter('smoothness_se', 5)"
   ]
  },
  {
   "cell_type": "code",
   "execution_count": 31,
   "id": "b2e46914",
   "metadata": {
    "execution": {
     "iopub.execute_input": "2022-05-03T12:10:22.783103Z",
     "iopub.status.busy": "2022-05-03T12:10:22.782334Z",
     "iopub.status.idle": "2022-05-03T12:10:23.621818Z",
     "shell.execute_reply": "2022-05-03T12:10:23.621136Z"
    },
    "papermill": {
     "duration": 0.918643,
     "end_time": "2022-05-03T12:10:23.623465",
     "exception": false,
     "start_time": "2022-05-03T12:10:22.704822",
     "status": "completed"
    },
    "tags": []
   },
   "outputs": [
    {
     "data": {
      "image/png": "[encoded data removed]",
      "text/plain": [
       "<Figure size 1440x288 with 5 Axes>"
      ]
     },
     "metadata": {},
     "output_type": "display_data"
    }
   ],
   "source": [
    "plt.figure(figsize=(20,4))\n",
    "scatter('compactness_se', 1)\n",
    "scatter('concavity_se', 2)\n",
    "scatter('concave points_se', 3)\n",
    "scatter('symmetry_se', 4)\n",
    "scatter('fractal_dimension_se', 5)"
   ]
  },
  {
   "cell_type": "code",
   "execution_count": 32,
   "id": "9ff579b6",
   "metadata": {
    "execution": {
     "iopub.execute_input": "2022-05-03T12:10:23.773942Z",
     "iopub.status.busy": "2022-05-03T12:10:23.773678Z",
     "iopub.status.idle": "2022-05-03T12:10:23.776892Z",
     "shell.execute_reply": "2022-05-03T12:10:23.776376Z"
    },
    "papermill": {
     "duration": 0.081498,
     "end_time": "2022-05-03T12:10:23.778552",
     "exception": false,
     "start_time": "2022-05-03T12:10:23.697054",
     "status": "completed"
    },
    "tags": []
   },
   "outputs": [],
   "source": [
    "#Decided to drop all of the Stranded Error columns.\n",
    "#Selected some columns from the mean and some columns from the worst to avoid. Multicollinearity and overfitting.\n",
    "#Decided to select 6 columns:  concavity_mean , concave points_mean, texture_worst, area_worst, smoothness_worst,  symmetry_worst"
   ]
  },
  {
   "cell_type": "code",
   "execution_count": 33,
   "id": "eb49ae1c",
   "metadata": {
    "execution": {
     "iopub.execute_input": "2022-05-03T12:10:23.932537Z",
     "iopub.status.busy": "2022-05-03T12:10:23.931940Z",
     "iopub.status.idle": "2022-05-03T12:10:23.936041Z",
     "shell.execute_reply": "2022-05-03T12:10:23.935176Z"
    },
    "papermill": {
     "duration": 0.08284,
     "end_time": "2022-05-03T12:10:23.937920",
     "exception": false,
     "start_time": "2022-05-03T12:10:23.855080",
     "status": "completed"
    },
    "tags": []
   },
   "outputs": [],
   "source": [
    "df2=df.copy()"
   ]
  },
  {
   "cell_type": "code",
   "execution_count": 34,
   "id": "0edf7c8a",
   "metadata": {
    "execution": {
     "iopub.execute_input": "2022-05-03T12:10:24.092077Z",
     "iopub.status.busy": "2022-05-03T12:10:24.091615Z",
     "iopub.status.idle": "2022-05-03T12:10:24.121939Z",
     "shell.execute_reply": "2022-05-03T12:10:24.121501Z"
    },
    "papermill": {
     "duration": 0.110494,
     "end_time": "2022-05-03T12:10:24.123423",
     "exception": false,
     "start_time": "2022-05-03T12:10:24.012929",
     "status": "completed"
    },
    "tags": []
   },
   "outputs": [
    {
     "data": {
      "text/html": [
       "<div>\n",
       "<style scoped>\n",
       "    .dataframe tbody tr th:only-of-type {\n",
       "        vertical-align: middle;\n",
       "    }\n",
       "\n",
       "    .dataframe tbody tr th {\n",
       "        vertical-align: top;\n",
       "    }\n",
       "\n",
       "    .dataframe thead th {\n",
       "        text-align: right;\n",
       "    }\n",
       "</style>\n",
       "<table border=\"1\" class=\"dataframe\">\n",
       "  <thead>\n",
       "    <tr style=\"text-align: right;\">\n",
       "      <th></th>\n",
       "      <th>id</th>\n",
       "      <th>diagnosis</th>\n",
       "      <th>radius_mean</th>\n",
       "      <th>texture_mean</th>\n",
       "      <th>perimeter_mean</th>\n",
       "      <th>area_mean</th>\n",
       "      <th>smoothness_mean</th>\n",
       "      <th>compactness_mean</th>\n",
       "      <th>concavity_mean</th>\n",
       "      <th>concave points_mean</th>\n",
       "      <th>...</th>\n",
       "      <th>radius_worst</th>\n",
       "      <th>texture_worst</th>\n",
       "      <th>perimeter_worst</th>\n",
       "      <th>area_worst</th>\n",
       "      <th>smoothness_worst</th>\n",
       "      <th>compactness_worst</th>\n",
       "      <th>concavity_worst</th>\n",
       "      <th>concave points_worst</th>\n",
       "      <th>symmetry_worst</th>\n",
       "      <th>fractal_dimension_worst</th>\n",
       "    </tr>\n",
       "  </thead>\n",
       "  <tbody>\n",
       "    <tr>\n",
       "      <th>0</th>\n",
       "      <td>842302</td>\n",
       "      <td>1</td>\n",
       "      <td>17.99</td>\n",
       "      <td>10.38</td>\n",
       "      <td>122.80</td>\n",
       "      <td>1001.0</td>\n",
       "      <td>0.11840</td>\n",
       "      <td>0.27760</td>\n",
       "      <td>0.30010</td>\n",
       "      <td>0.14710</td>\n",
       "      <td>...</td>\n",
       "      <td>25.380</td>\n",
       "      <td>17.33</td>\n",
       "      <td>184.60</td>\n",
       "      <td>2019.0</td>\n",
       "      <td>0.16220</td>\n",
       "      <td>0.66560</td>\n",
       "      <td>0.7119</td>\n",
       "      <td>0.2654</td>\n",
       "      <td>0.4601</td>\n",
       "      <td>0.11890</td>\n",
       "    </tr>\n",
       "    <tr>\n",
       "      <th>1</th>\n",
       "      <td>842517</td>\n",
       "      <td>1</td>\n",
       "      <td>20.57</td>\n",
       "      <td>17.77</td>\n",
       "      <td>132.90</td>\n",
       "      <td>1326.0</td>\n",
       "      <td>0.08474</td>\n",
       "      <td>0.07864</td>\n",
       "      <td>0.08690</td>\n",
       "      <td>0.07017</td>\n",
       "      <td>...</td>\n",
       "      <td>24.990</td>\n",
       "      <td>23.41</td>\n",
       "      <td>158.80</td>\n",
       "      <td>1956.0</td>\n",
       "      <td>0.12380</td>\n",
       "      <td>0.18660</td>\n",
       "      <td>0.2416</td>\n",
       "      <td>0.1860</td>\n",
       "      <td>0.2750</td>\n",
       "      <td>0.08902</td>\n",
       "    </tr>\n",
       "    <tr>\n",
       "      <th>2</th>\n",
       "      <td>84300903</td>\n",
       "      <td>1</td>\n",
       "      <td>19.69</td>\n",
       "      <td>21.25</td>\n",
       "      <td>130.00</td>\n",
       "      <td>1203.0</td>\n",
       "      <td>0.10960</td>\n",
       "      <td>0.15990</td>\n",
       "      <td>0.19740</td>\n",
       "      <td>0.12790</td>\n",
       "      <td>...</td>\n",
       "      <td>23.570</td>\n",
       "      <td>25.53</td>\n",
       "      <td>152.50</td>\n",
       "      <td>1709.0</td>\n",
       "      <td>0.14440</td>\n",
       "      <td>0.42450</td>\n",
       "      <td>0.4504</td>\n",
       "      <td>0.2430</td>\n",
       "      <td>0.3613</td>\n",
       "      <td>0.08758</td>\n",
       "    </tr>\n",
       "    <tr>\n",
       "      <th>3</th>\n",
       "      <td>84348301</td>\n",
       "      <td>1</td>\n",
       "      <td>11.42</td>\n",
       "      <td>20.38</td>\n",
       "      <td>77.58</td>\n",
       "      <td>386.1</td>\n",
       "      <td>0.14250</td>\n",
       "      <td>0.28390</td>\n",
       "      <td>0.24140</td>\n",
       "      <td>0.10520</td>\n",
       "      <td>...</td>\n",
       "      <td>14.910</td>\n",
       "      <td>26.50</td>\n",
       "      <td>98.87</td>\n",
       "      <td>567.7</td>\n",
       "      <td>0.20980</td>\n",
       "      <td>0.86630</td>\n",
       "      <td>0.6869</td>\n",
       "      <td>0.2575</td>\n",
       "      <td>0.6638</td>\n",
       "      <td>0.17300</td>\n",
       "    </tr>\n",
       "    <tr>\n",
       "      <th>4</th>\n",
       "      <td>84358402</td>\n",
       "      <td>1</td>\n",
       "      <td>20.29</td>\n",
       "      <td>14.34</td>\n",
       "      <td>135.10</td>\n",
       "      <td>1297.0</td>\n",
       "      <td>0.10030</td>\n",
       "      <td>0.13280</td>\n",
       "      <td>0.19800</td>\n",
       "      <td>0.10430</td>\n",
       "      <td>...</td>\n",
       "      <td>22.540</td>\n",
       "      <td>16.67</td>\n",
       "      <td>152.20</td>\n",
       "      <td>1575.0</td>\n",
       "      <td>0.13740</td>\n",
       "      <td>0.20500</td>\n",
       "      <td>0.4000</td>\n",
       "      <td>0.1625</td>\n",
       "      <td>0.2364</td>\n",
       "      <td>0.07678</td>\n",
       "    </tr>\n",
       "    <tr>\n",
       "      <th>...</th>\n",
       "      <td>...</td>\n",
       "      <td>...</td>\n",
       "      <td>...</td>\n",
       "      <td>...</td>\n",
       "      <td>...</td>\n",
       "      <td>...</td>\n",
       "      <td>...</td>\n",
       "      <td>...</td>\n",
       "      <td>...</td>\n",
       "      <td>...</td>\n",
       "      <td>...</td>\n",
       "      <td>...</td>\n",
       "      <td>...</td>\n",
       "      <td>...</td>\n",
       "      <td>...</td>\n",
       "      <td>...</td>\n",
       "      <td>...</td>\n",
       "      <td>...</td>\n",
       "      <td>...</td>\n",
       "      <td>...</td>\n",
       "      <td>...</td>\n",
       "    </tr>\n",
       "    <tr>\n",
       "      <th>564</th>\n",
       "      <td>926424</td>\n",
       "      <td>1</td>\n",
       "      <td>21.56</td>\n",
       "      <td>22.39</td>\n",
       "      <td>142.00</td>\n",
       "      <td>1479.0</td>\n",
       "      <td>0.11100</td>\n",
       "      <td>0.11590</td>\n",
       "      <td>0.24390</td>\n",
       "      <td>0.13890</td>\n",
       "      <td>...</td>\n",
       "      <td>25.450</td>\n",
       "      <td>26.40</td>\n",
       "      <td>166.10</td>\n",
       "      <td>2027.0</td>\n",
       "      <td>0.14100</td>\n",
       "      <td>0.21130</td>\n",
       "      <td>0.4107</td>\n",
       "      <td>0.2216</td>\n",
       "      <td>0.2060</td>\n",
       "      <td>0.07115</td>\n",
       "    </tr>\n",
       "    <tr>\n",
       "      <th>565</th>\n",
       "      <td>926682</td>\n",
       "      <td>1</td>\n",
       "      <td>20.13</td>\n",
       "      <td>28.25</td>\n",
       "      <td>131.20</td>\n",
       "      <td>1261.0</td>\n",
       "      <td>0.09780</td>\n",
       "      <td>0.10340</td>\n",
       "      <td>0.14400</td>\n",
       "      <td>0.09791</td>\n",
       "      <td>...</td>\n",
       "      <td>23.690</td>\n",
       "      <td>38.25</td>\n",
       "      <td>155.00</td>\n",
       "      <td>1731.0</td>\n",
       "      <td>0.11660</td>\n",
       "      <td>0.19220</td>\n",
       "      <td>0.3215</td>\n",
       "      <td>0.1628</td>\n",
       "      <td>0.2572</td>\n",
       "      <td>0.06637</td>\n",
       "    </tr>\n",
       "    <tr>\n",
       "      <th>566</th>\n",
       "      <td>926954</td>\n",
       "      <td>1</td>\n",
       "      <td>16.60</td>\n",
       "      <td>28.08</td>\n",
       "      <td>108.30</td>\n",
       "      <td>858.1</td>\n",
       "      <td>0.08455</td>\n",
       "      <td>0.10230</td>\n",
       "      <td>0.09251</td>\n",
       "      <td>0.05302</td>\n",
       "      <td>...</td>\n",
       "      <td>18.980</td>\n",
       "      <td>34.12</td>\n",
       "      <td>126.70</td>\n",
       "      <td>1124.0</td>\n",
       "      <td>0.11390</td>\n",
       "      <td>0.30940</td>\n",
       "      <td>0.3403</td>\n",
       "      <td>0.1418</td>\n",
       "      <td>0.2218</td>\n",
       "      <td>0.07820</td>\n",
       "    </tr>\n",
       "    <tr>\n",
       "      <th>567</th>\n",
       "      <td>927241</td>\n",
       "      <td>1</td>\n",
       "      <td>20.60</td>\n",
       "      <td>29.33</td>\n",
       "      <td>140.10</td>\n",
       "      <td>1265.0</td>\n",
       "      <td>0.11780</td>\n",
       "      <td>0.27700</td>\n",
       "      <td>0.35140</td>\n",
       "      <td>0.15200</td>\n",
       "      <td>...</td>\n",
       "      <td>25.740</td>\n",
       "      <td>39.42</td>\n",
       "      <td>184.60</td>\n",
       "      <td>1821.0</td>\n",
       "      <td>0.16500</td>\n",
       "      <td>0.86810</td>\n",
       "      <td>0.9387</td>\n",
       "      <td>0.2650</td>\n",
       "      <td>0.4087</td>\n",
       "      <td>0.12400</td>\n",
       "    </tr>\n",
       "    <tr>\n",
       "      <th>568</th>\n",
       "      <td>92751</td>\n",
       "      <td>0</td>\n",
       "      <td>7.76</td>\n",
       "      <td>24.54</td>\n",
       "      <td>47.92</td>\n",
       "      <td>181.0</td>\n",
       "      <td>0.05263</td>\n",
       "      <td>0.04362</td>\n",
       "      <td>0.00000</td>\n",
       "      <td>0.00000</td>\n",
       "      <td>...</td>\n",
       "      <td>9.456</td>\n",
       "      <td>30.37</td>\n",
       "      <td>59.16</td>\n",
       "      <td>268.6</td>\n",
       "      <td>0.08996</td>\n",
       "      <td>0.06444</td>\n",
       "      <td>0.0000</td>\n",
       "      <td>0.0000</td>\n",
       "      <td>0.2871</td>\n",
       "      <td>0.07039</td>\n",
       "    </tr>\n",
       "  </tbody>\n",
       "</table>\n",
       "<p>569 rows × 32 columns</p>\n",
       "</div>"
      ],
      "text/plain": [
       "           id  diagnosis  radius_mean  texture_mean  perimeter_mean  \\\n",
       "0      842302          1        17.99         10.38          122.80   \n",
       "1      842517          1        20.57         17.77          132.90   \n",
       "2    84300903          1        19.69         21.25          130.00   \n",
       "3    84348301          1        11.42         20.38           77.58   \n",
       "4    84358402          1        20.29         14.34          135.10   \n",
       "..        ...        ...          ...           ...             ...   \n",
       "564    926424          1        21.56         22.39          142.00   \n",
       "565    926682          1        20.13         28.25          131.20   \n",
       "566    926954          1        16.60         28.08          108.30   \n",
       "567    927241          1        20.60         29.33          140.10   \n",
       "568     92751          0         7.76         24.54           47.92   \n",
       "\n",
       "     area_mean  smoothness_mean  compactness_mean  concavity_mean  \\\n",
       "0       1001.0          0.11840           0.27760         0.30010   \n",
       "1       1326.0          0.08474           0.07864         0.08690   \n",
       "2       1203.0          0.10960           0.15990         0.19740   \n",
       "3        386.1          0.14250           0.28390         0.24140   \n",
       "4       1297.0          0.10030           0.13280         0.19800   \n",
       "..         ...              ...               ...             ...   \n",
       "564     1479.0          0.11100           0.11590         0.24390   \n",
       "565     1261.0          0.09780           0.10340         0.14400   \n",
       "566      858.1          0.08455           0.10230         0.09251   \n",
       "567     1265.0          0.11780           0.27700         0.35140   \n",
       "568      181.0          0.05263           0.04362         0.00000   \n",
       "\n",
       "     concave points_mean  ...  radius_worst  texture_worst  perimeter_worst  \\\n",
       "0                0.14710  ...        25.380          17.33           184.60   \n",
       "1                0.07017  ...        24.990          23.41           158.80   \n",
       "2                0.12790  ...        23.570          25.53           152.50   \n",
       "3                0.10520  ...        14.910          26.50            98.87   \n",
       "4                0.10430  ...        22.540          16.67           152.20   \n",
       "..                   ...  ...           ...            ...              ...   \n",
       "564              0.13890  ...        25.450          26.40           166.10   \n",
       "565              0.09791  ...        23.690          38.25           155.00   \n",
       "566              0.05302  ...        18.980          34.12           126.70   \n",
       "567              0.15200  ...        25.740          39.42           184.60   \n",
       "568              0.00000  ...         9.456          30.37            59.16   \n",
       "\n",
       "     area_worst  smoothness_worst  compactness_worst  concavity_worst  \\\n",
       "0        2019.0           0.16220            0.66560           0.7119   \n",
       "1        1956.0           0.12380            0.18660           0.2416   \n",
       "2        1709.0           0.14440            0.42450           0.4504   \n",
       "3         567.7           0.20980            0.86630           0.6869   \n",
       "4        1575.0           0.13740            0.20500           0.4000   \n",
       "..          ...               ...                ...              ...   \n",
       "564      2027.0           0.14100            0.21130           0.4107   \n",
       "565      1731.0           0.11660            0.19220           0.3215   \n",
       "566      1124.0           0.11390            0.30940           0.3403   \n",
       "567      1821.0           0.16500            0.86810           0.9387   \n",
       "568       268.6           0.08996            0.06444           0.0000   \n",
       "\n",
       "     concave points_worst  symmetry_worst  fractal_dimension_worst  \n",
       "0                  0.2654          0.4601                  0.11890  \n",
       "1                  0.1860          0.2750                  0.08902  \n",
       "2                  0.2430          0.3613                  0.08758  \n",
       "3                  0.2575          0.6638                  0.17300  \n",
       "4                  0.1625          0.2364                  0.07678  \n",
       "..                    ...             ...                      ...  \n",
       "564                0.2216          0.2060                  0.07115  \n",
       "565                0.1628          0.2572                  0.06637  \n",
       "566                0.1418          0.2218                  0.07820  \n",
       "567                0.2650          0.4087                  0.12400  \n",
       "568                0.0000          0.2871                  0.07039  \n",
       "\n",
       "[569 rows x 32 columns]"
      ]
     },
     "execution_count": 34,
     "metadata": {},
     "output_type": "execute_result"
    }
   ],
   "source": [
    "df2"
   ]
  },
  {
   "cell_type": "code",
   "execution_count": 35,
   "id": "8df3b9d8",
   "metadata": {
    "execution": {
     "iopub.execute_input": "2022-05-03T12:10:24.275221Z",
     "iopub.status.busy": "2022-05-03T12:10:24.274740Z",
     "iopub.status.idle": "2022-05-03T12:10:24.279200Z",
     "shell.execute_reply": "2022-05-03T12:10:24.278734Z"
    },
    "papermill": {
     "duration": 0.08244,
     "end_time": "2022-05-03T12:10:24.280939",
     "exception": false,
     "start_time": "2022-05-03T12:10:24.198499",
     "status": "completed"
    },
    "tags": []
   },
   "outputs": [],
   "source": [
    "df2=df2[['diagnosis', 'concavity_mean' , 'concave points_mean', 'texture_worst', 'area_worst', 'smoothness_worst',  'symmetry_worst']]"
   ]
  },
  {
   "cell_type": "code",
   "execution_count": 36,
   "id": "cb025a48",
   "metadata": {
    "execution": {
     "iopub.execute_input": "2022-05-03T12:10:24.439507Z",
     "iopub.status.busy": "2022-05-03T12:10:24.438690Z",
     "iopub.status.idle": "2022-05-03T12:10:24.444134Z",
     "shell.execute_reply": "2022-05-03T12:10:24.443555Z"
    },
    "papermill": {
     "duration": 0.089102,
     "end_time": "2022-05-03T12:10:24.446092",
     "exception": false,
     "start_time": "2022-05-03T12:10:24.356990",
     "status": "completed"
    },
    "tags": []
   },
   "outputs": [],
   "source": [
    "y=df2.iloc[:,0].values\n",
    "x=df2.iloc[:,1:].values"
   ]
  },
  {
   "cell_type": "code",
   "execution_count": 37,
   "id": "7b3271e5",
   "metadata": {
    "execution": {
     "iopub.execute_input": "2022-05-03T12:10:24.611236Z",
     "iopub.status.busy": "2022-05-03T12:10:24.610371Z",
     "iopub.status.idle": "2022-05-03T12:10:24.662946Z",
     "shell.execute_reply": "2022-05-03T12:10:24.662201Z"
    },
    "papermill": {
     "duration": 0.134421,
     "end_time": "2022-05-03T12:10:24.665085",
     "exception": false,
     "start_time": "2022-05-03T12:10:24.530664",
     "status": "completed"
    },
    "tags": []
   },
   "outputs": [],
   "source": [
    "from sklearn.model_selection import train_test_split"
   ]
  },
  {
   "cell_type": "code",
   "execution_count": 38,
   "id": "e986575d",
   "metadata": {
    "execution": {
     "iopub.execute_input": "2022-05-03T12:10:24.821212Z",
     "iopub.status.busy": "2022-05-03T12:10:24.820590Z",
     "iopub.status.idle": "2022-05-03T12:10:24.825670Z",
     "shell.execute_reply": "2022-05-03T12:10:24.824992Z"
    },
    "papermill": {
     "duration": 0.087256,
     "end_time": "2022-05-03T12:10:24.827442",
     "exception": false,
     "start_time": "2022-05-03T12:10:24.740186",
     "status": "completed"
    },
    "tags": []
   },
   "outputs": [],
   "source": [
    "x_train,x_test,y_train,y_test=train_test_split(x,y,test_size=0.2)"
   ]
  },
  {
   "cell_type": "code",
   "execution_count": 39,
   "id": "3878c172",
   "metadata": {
    "execution": {
     "iopub.execute_input": "2022-05-03T12:10:24.981650Z",
     "iopub.status.busy": "2022-05-03T12:10:24.981191Z",
     "iopub.status.idle": "2022-05-03T12:10:24.985323Z",
     "shell.execute_reply": "2022-05-03T12:10:24.984746Z"
    },
    "papermill": {
     "duration": 0.083733,
     "end_time": "2022-05-03T12:10:24.987130",
     "exception": false,
     "start_time": "2022-05-03T12:10:24.903397",
     "status": "completed"
    },
    "tags": []
   },
   "outputs": [],
   "source": [
    "from sklearn.preprocessing import StandardScaler\n",
    "standardscaler=StandardScaler()"
   ]
  },
  {
   "cell_type": "code",
   "execution_count": 40,
   "id": "fbbf40c6",
   "metadata": {
    "execution": {
     "iopub.execute_input": "2022-05-03T12:10:25.143199Z",
     "iopub.status.busy": "2022-05-03T12:10:25.142788Z",
     "iopub.status.idle": "2022-05-03T12:10:25.148098Z",
     "shell.execute_reply": "2022-05-03T12:10:25.147591Z"
    },
    "papermill": {
     "duration": 0.085582,
     "end_time": "2022-05-03T12:10:25.149839",
     "exception": false,
     "start_time": "2022-05-03T12:10:25.064257",
     "status": "completed"
    },
    "tags": []
   },
   "outputs": [],
   "source": [
    "x_train=standardscaler.fit_transform(x_train)\n",
    "x_test=standardscaler.fit_transform(x_test)"
   ]
  },
  {
   "cell_type": "code",
   "execution_count": 41,
   "id": "d78fe1a7",
   "metadata": {
    "execution": {
     "iopub.execute_input": "2022-05-03T12:10:25.304324Z",
     "iopub.status.busy": "2022-05-03T12:10:25.303702Z",
     "iopub.status.idle": "2022-05-03T12:10:25.309955Z",
     "shell.execute_reply": "2022-05-03T12:10:25.309268Z"
    },
    "papermill": {
     "duration": 0.085057,
     "end_time": "2022-05-03T12:10:25.311664",
     "exception": false,
     "start_time": "2022-05-03T12:10:25.226607",
     "status": "completed"
    },
    "tags": []
   },
   "outputs": [
    {
     "data": {
      "text/plain": [
       "array([[-0.41525837, -0.07803365, -1.00274232,  0.13797647, -0.53564239,\n",
       "        -0.22157052],\n",
       "       [ 0.26642114, -0.34466159, -0.01462563, -0.32088128,  0.10386074,\n",
       "        -0.56172206],\n",
       "       [-0.64333432, -0.47745174, -1.51864678, -0.6391385 ,  0.42581748,\n",
       "        -0.30225763],\n",
       "       ...,\n",
       "       [-0.23751203,  0.43715022, -1.44806701, -0.21308163,  0.08621927,\n",
       "        -0.49369175],\n",
       "       [-0.29089964, -0.46042736, -0.47003315, -0.8788509 , -0.12106795,\n",
       "        -0.84650009],\n",
       "       [ 1.99164368,  2.37400059,  0.1433386 ,  2.0512431 ,  0.36407235,\n",
       "        -1.35751845]])"
      ]
     },
     "execution_count": 41,
     "metadata": {},
     "output_type": "execute_result"
    }
   ],
   "source": [
    "x_train"
   ]
  },
  {
   "cell_type": "code",
   "execution_count": 42,
   "id": "37aefb2e",
   "metadata": {
    "execution": {
     "iopub.execute_input": "2022-05-03T12:10:25.466990Z",
     "iopub.status.busy": "2022-05-03T12:10:25.466550Z",
     "iopub.status.idle": "2022-05-03T12:10:25.480132Z",
     "shell.execute_reply": "2022-05-03T12:10:25.479445Z"
    },
    "papermill": {
     "duration": 0.093343,
     "end_time": "2022-05-03T12:10:25.481981",
     "exception": false,
     "start_time": "2022-05-03T12:10:25.388638",
     "status": "completed"
    },
    "tags": []
   },
   "outputs": [
    {
     "data": {
      "text/plain": [
       "array([[ 2.48605297e-01,  3.62051024e-01,  2.81608175e+00,\n",
       "         2.65302953e+00,  4.26418318e-01, -2.14448059e-01],\n",
       "       [-6.32385176e-01, -6.37054093e-01, -1.43592783e+00,\n",
       "        -5.18324990e-01, -4.92176384e-01, -4.83553758e-01],\n",
       "       [ 2.45882200e+00,  2.33460559e+00, -1.29961729e+00,\n",
       "         1.87136966e+00,  1.34501302e+00,  3.19542818e+00],\n",
       "       [-3.82068608e-01, -5.19526687e-01,  9.28022556e-02,\n",
       "        -9.57966000e-01,  1.07458561e+00, -3.78801204e-01],\n",
       "       [-8.33519660e-01, -6.28502202e-01, -1.37436823e+00,\n",
       "        -8.97720163e-01, -3.97741415e-01, -1.67917774e+00],\n",
       "       [ 2.12879812e-01, -4.31320048e-01, -9.53710961e-01,\n",
       "        -5.57919988e-01, -1.35668560e+00, -1.50398812e+00],\n",
       "       [-5.56885317e-01, -5.90385206e-01,  1.57023268e+00,\n",
       "         1.51834720e-02, -6.89631320e-01,  7.24712768e-01],\n",
       "       [-1.11491740e+00, -1.25963170e+00, -1.34212273e+00,\n",
       "        -1.13204746e+00, -6.29536340e-01, -4.32983560e-01],\n",
       "       [ 2.60513792e-01,  6.28136979e-01, -4.64165563e-01,\n",
       "         1.25355116e+00, -1.09312619e+00,  4.03230793e-01],\n",
       "       [ 2.28360855e-01,  4.19715198e-01,  1.06603023e+00,\n",
       "        -5.83744765e-02,  2.32799520e+00,  9.95624546e-01],\n",
       "       [-4.72215916e-01, -4.43292695e-01, -9.22931160e-01,\n",
       "        -8.23479542e-01,  4.69343304e-01,  8.47526107e-01],\n",
       "       [ 5.12973890e-01,  8.52929522e-01,  3.07258008e+00,\n",
       "         4.28290983e+00,  3.96370828e-01,  6.54941104e-02],\n",
       "       [ 2.09307263e-01, -2.56617148e-01,  1.60687530e+00,\n",
       "        -7.65111054e-01, -4.57565290e-02, -1.29990125e+00],\n",
       "       [-1.09650687e+00, -1.12299693e+00, -5.78490536e-01,\n",
       "        -6.81142351e-01, -1.26911863e+00, -1.19334261e+00],\n",
       "       [-7.26105033e-01, -5.86475771e-01, -1.46817334e+00,\n",
       "        -7.93612625e-01,  2.11793387e-01, -1.78326489e-01],\n",
       "       [ 2.27170006e-01,  5.48482230e-01,  2.14455753e-01,\n",
       "         1.16651043e+00,  5.72363271e-01,  4.17679421e-01],\n",
       "       [-7.26581373e-01, -6.12620121e-01, -5.63833488e-01,\n",
       "        -1.56849967e-01, -1.29916612e+00, -1.45341792e+00],\n",
       "       [-4.55305853e-01, -4.72613461e-01, -1.16916956e+00,\n",
       "        -2.71422153e-02, -1.04590870e+00, -2.59600022e-01],\n",
       "       [ 6.98746415e-01,  1.22041646e+00,  1.39704809e-01,\n",
       "         1.23307099e+00, -9.08548749e-01,  7.01233748e-01],\n",
       "       [-1.05235581e-02,  1.05738657e-01, -5.66764897e-01,\n",
       "        -8.27575576e-01, -1.20473115e+00,  2.22622941e-01],\n",
       "       [ 1.35133195e+00,  1.08627395e+00, -5.56504964e-01,\n",
       "        -1.62652682e-01,  2.37521269e+00,  5.69390016e-01],\n",
       "       [-8.83059000e-01, -7.85856982e-01, -5.52339277e-02,\n",
       "        -2.39623992e-01, -1.13175868e+00, -3.35455320e-01],\n",
       "       [-2.69771498e-01, -1.60835978e-01, -9.56642370e-01,\n",
       "        -7.62551032e-01,  4.56465808e-01, -8.07982494e-02],\n",
       "       [-6.96691050e-01, -6.18728614e-01, -1.49895314e+00,\n",
       "        -7.03158536e-01,  1.02736812e+00,  3.32793731e-01],\n",
       "       [ 2.25979156e-01,  3.19535912e-01,  6.74687055e-01,\n",
       "        -9.08014144e-02,  1.30638053e+00,  6.27184529e-01],\n",
       "       [-3.24669661e-01, -4.91916299e-01,  1.32376285e-01,\n",
       "        -6.67830240e-01,  4.13540822e-01,  1.02090964e+00],\n",
       "       [-7.95650645e-01, -4.65283269e-01, -1.25587757e-01,\n",
       "        -4.06196052e-01, -1.04161621e+00, -5.57602977e-01],\n",
       "       [ 1.11657602e-01, -1.86735988e-01, -5.52107850e-01,\n",
       "        -6.40182009e-01, -9.12841248e-01, -1.28364654e+00],\n",
       "       [ 9.35725469e-01,  1.25218062e+00,  7.74354980e-01,\n",
       "         6.69866281e-01,  2.06186029e+00,  1.57898791e+00],\n",
       "       [-3.81512669e-02,  2.11782096e-01, -3.93426021e-03,\n",
       "         1.41227249e+00, -3.46231432e-01, -1.07233535e+00],\n",
       "       [-7.84813915e-01, -7.54337158e-01,  1.17742380e+00,\n",
       "        -4.94260789e-01, -8.43890165e-02, -7.00283180e-01],\n",
       "       [ 1.47383088e-01,  2.28397197e-01,  1.19794366e+00,\n",
       "         1.62219425e+00,  8.12743193e-01,  1.53022379e+00],\n",
       "       [-1.09589953e+00, -1.20089243e+00, -7.35320948e-01,\n",
       "        -8.28599585e-01,  9.11470661e-01,  1.82889214e-01],\n",
       "       [-7.94817051e-01, -8.24462658e-01, -3.03169463e-02,\n",
       "        -5.85056215e-01, -4.57565290e-02, -1.58459626e-01],\n",
       "       [ 1.19175812e+00,  2.32971879e+00,  9.56102374e-01,\n",
       "         6.40852705e-01,  3.57738340e-01, -9.40491623e-01],\n",
       "       [ 2.99811826e-01,  4.60031251e-01, -1.19555225e+00,\n",
       "        -1.01445714e+00,  2.99333249e+00,  2.93725401e-02],\n",
       "       [ 3.92698089e-01,  7.81337984e-01, -1.62230377e-01,\n",
       "         5.11144953e-01,  4.60758307e-01,  5.53135309e-01],\n",
       "       [-2.34284183e-01,  2.53508890e-02,  6.86412693e-01,\n",
       "         3.67783754e-01,  6.66798240e-01,  3.56272751e-01],\n",
       "       [ 6.45158187e-01,  8.14323846e-01,  6.13127454e-01,\n",
       "         3.38770178e-01,  1.20765306e+00,  4.89922561e-01],\n",
       "       [ 1.17270452e+00,  1.10166736e+00,  1.42219650e+00,\n",
       "         1.36789879e+00,  2.03181280e+00,  7.69864731e-01],\n",
       "       [ 2.66722067e+00,  2.10492625e+00,  7.97806257e-01,\n",
       "         5.17971677e-01,  8.38498184e-01,  8.04180223e-01],\n",
       "       [ 2.35521809e+00,  1.77506763e+00, -2.97075217e-01,\n",
       "        -1.22940911e-02,  1.03595312e+00,  2.55246423e+00],\n",
       "       [-7.22056145e-01, -4.47690809e-01,  1.12612413e+00,\n",
       "         3.88263925e-01, -5.47978866e-01,  2.09980392e-01],\n",
       "       [ 1.02742088e+00,  6.90443608e-01, -1.44641920e-01,\n",
       "         8.99360972e-02,  5.03683293e-01, -1.72908254e-01],\n",
       "       [ 1.64666263e+00,  1.77995442e+00,  1.14517829e+00,\n",
       "         1.27573801e+00,  7.82695702e-01,  1.10579534e+00],\n",
       "       [-9.06280566e-01, -8.00273026e-01, -8.78960017e-01,\n",
       "        -2.54472116e-01, -1.91701482e-01, -4.64827576e-02],\n",
       "       [-1.61642362e-01, -3.26009629e-01, -2.28187092e-01,\n",
       "        -4.17460146e-01,  5.03683293e-01,  3.29181574e-01],\n",
       "       [ 1.76336588e+00,  1.12023718e+00, -8.89451377e-02,\n",
       "         1.72459510e+00,  1.72275290e+00, -1.49429233e-01],\n",
       "       [-1.11491740e+00, -1.25963170e+00,  6.92275512e-01,\n",
       "        -1.15116228e+00, -2.26041471e-01,  4.08649028e-01],\n",
       "       [-6.30360732e-01, -7.07423932e-01, -5.06671001e-01,\n",
       "        -1.58727316e-01, -3.54816429e-01,  1.38754358e+00],\n",
       "       [ 1.10466753e-01, -3.46778505e-01,  1.57293266e-01,\n",
       "        -3.22568686e-01, -1.21331615e+00, -1.03621378e+00],\n",
       "       [ 5.19960416e-02,  6.42553022e-01,  2.53798355e-02,\n",
       "         1.46347292e+00,  7.87259306e-02, -4.02280225e-01],\n",
       "       [-8.77581092e-01, -9.88170271e-01, -4.23125829e-01,\n",
       "        -9.49261927e-01, -1.41334659e+00, -2.39733159e-01],\n",
       "       [-5.78439693e-01, -9.00207971e-01, -1.52093871e+00,\n",
       "        -8.00439349e-01, -1.81254896e+00, -4.61880816e-01],\n",
       "       [-1.87364712e-01, -2.10736579e-02, -7.82223501e-01,\n",
       "        -1.87911560e-01,  4.39295814e-01, -4.38401795e-01],\n",
       "       [-6.13688839e-01, -5.63996516e-01,  8.02203371e-01,\n",
       "         1.12805622e-01, -9.64351231e-01, -2.68630415e-01],\n",
       "       [ 1.45612671e+00,  1.28883158e+00,  8.98939887e-01,\n",
       "         1.25867120e+00,  2.89058362e-01, -1.21320948e+00],\n",
       "       [ 2.40269350e-01,  8.25563473e-01, -1.15304681e+00,\n",
       "        -2.72904271e-01,  3.31983349e-01, -4.36595717e-01],\n",
       "       [-6.19682573e-02,  1.52163204e-01, -1.49748744e+00,\n",
       "        -3.02088515e-01,  1.86309501e-02,  1.03421759e-01],\n",
       "       [-6.94071181e-01, -5.40295563e-01, -6.76692756e-01,\n",
       "        -2.94408450e-01, -4.87883886e-01, -1.92775117e-01],\n",
       "       [ 2.86553911e-02,  1.09403753e-01, -1.97407292e-01,\n",
       "        -5.65429384e-01,  1.47405908e-01,  5.07983347e-01],\n",
       "       [ 1.10363525e+00,  1.43543541e+00,  1.24044910e+00,\n",
       "         1.05386949e+00, -3.89156418e-01,  2.19124852e+00],\n",
       "       [-3.00495416e-01, -6.40474849e-01, -1.01233915e+00,\n",
       "        -6.70048925e-01, -1.21331615e+00, -2.79466886e-01],\n",
       "       [-9.61535983e-01, -7.89522078e-01, -1.27763172e+00,\n",
       "        -6.29429919e-01, -4.57565290e-02, -8.35739069e-01],\n",
       "       [ 2.86132914e+00,  3.24843614e+00,  1.08801580e+00,\n",
       "         2.79809741e+00,  1.13468059e+00, -8.61024168e-01],\n",
       "       [-8.78891027e-01, -8.23240960e-01, -1.45058488e+00,\n",
       "        -8.22114197e-01,  1.38820911e-01,  4.92394037e-02],\n",
       "       [-2.72986792e-01, -4.08107775e-01,  4.48968518e-01,\n",
       "        -6.84043709e-01,  1.62831793e+00, -4.64827576e-02],\n",
       "       [ 1.91579462e+00,  1.54783169e+00,  1.08215299e+00,\n",
       "         1.13749686e+00, -1.44483997e-01,  8.54750421e-01],\n",
       "       [-8.10536264e-01, -7.63377728e-01, -8.77494312e-01,\n",
       "        -4.29918917e-01, -8.74208760e-01,  8.87259835e-01],\n",
       "       [ 1.98589617e-01, -1.82582213e-01,  2.10228352e+00,\n",
       "        -2.70514917e-01, -9.77228727e-01, -1.70085068e+00],\n",
       "       [-1.11491740e+00, -1.25963170e+00,  1.17888950e+00,\n",
       "        -1.01019044e+00, -1.01156872e+00, -6.44294746e-01],\n",
       "       [-1.06165070e+00, -1.10269230e+00, -9.50779551e-01,\n",
       "        -6.45643388e-01, -8.78501259e-01, -1.65208656e+00],\n",
       "       [-6.05352892e-01, -4.94359696e-01, -6.75227052e-01,\n",
       "        -6.36085975e-01,  9.32933154e-01, -5.00949146e-02],\n",
       "       [-4.82814477e-01, -7.78526791e-01, -6.29790203e-01,\n",
       "        -7.76375148e-01,  1.86038396e-01,  1.97337842e-01],\n",
       "       [ 2.30742554e-01,  6.82869076e-01, -1.75421720e-01,\n",
       "         9.60002040e-01,  5.38023282e-01, -3.56462865e-02],\n",
       "       [-9.89282777e-01, -1.01683132e+00, -1.27470031e+00,\n",
       "        -3.68478403e-01, -1.01586121e+00, -1.75683911e+00],\n",
       "       [-1.15794655e-01,  2.82829656e-02,  8.08066190e-01,\n",
       "        -2.80413667e-01,  1.43384515e-02, -6.40682589e-01],\n",
       "       [-6.14641519e-01, -4.89472902e-01, -1.51970443e-01,\n",
       "        -3.45950215e-01,  1.35359802e+00,  1.23944515e+00],\n",
       "       [-6.80376412e-01, -6.95939965e-01,  5.32282264e-02,\n",
       "         2.75622983e-01, -1.28628863e+00,  3.33269014e+00],\n",
       "       [-7.62664114e-01, -6.12864460e-01, -1.01527056e+00,\n",
       "        -6.10315092e-01, -7.15115207e-02,  5.02565111e-01],\n",
       "       [ 1.42873717e+00,  1.18865230e+00,  3.91806032e-01,\n",
       "         8.78081355e-01, -4.36373902e-01, -9.58552408e-01],\n",
       "       [ 1.20723916e+00,  1.76285064e+00,  1.21846353e+00,\n",
       "         3.45004953e+00,  7.39770716e-01,  4.89922561e-01],\n",
       "       [-7.58257970e-01, -7.53848479e-01,  3.27083594e-02,\n",
       "        -1.57020635e-01, -1.05020120e+00, -8.59218089e-01],\n",
       "       [-1.51281971e-01, -5.75480483e-01, -5.05205297e-01,\n",
       "        -4.95626133e-01, -1.21760865e+00, -1.41549027e+00],\n",
       "       [-7.63854963e-01, -8.89701363e-01, -8.45480234e-02,\n",
       "        -9.17005657e-01, -3.20476440e-01,  6.18154136e-01],\n",
       "       [-3.98621416e-01, -3.44579448e-01,  6.30715912e-01,\n",
       "        -5.93589619e-01, -2.00015374e-02,  2.53326276e-01],\n",
       "       [ 3.18865419e-01,  1.41900936e-01,  1.35770548e+00,\n",
       "         6.16959171e-01,  5.46608279e-01, -5.99142783e-01],\n",
       "       [-1.10667672e+00, -1.15781534e+00, -5.78490536e-01,\n",
       "        -5.09279581e-01, -1.23477864e+00, -7.09313573e-01],\n",
       "       [ 6.11814400e-01,  2.79708538e-01, -1.15158111e+00,\n",
       "        -1.93372939e-01,  1.43384515e-02, -8.55510876e-03],\n",
       "       [-8.78096918e-02, -1.62790696e-01,  1.32985709e+00,\n",
       "        -2.73128834e-02, -1.87408983e-01, -3.26424927e-01],\n",
       "       [ 1.60021950e+00,  1.91990578e-01, -4.94945363e-01,\n",
       "        -9.73838133e-01, -7.11093813e-01, -4.23953167e-01],\n",
       "       [ 1.92174887e+00,  1.04424752e+00,  2.43206709e+00,\n",
       "        -1.28060954e-02,  4.65050805e-01,  2.27071598e+00],\n",
       "       [ 8.99999983e-01,  6.81403038e-01,  1.11732990e+00,\n",
       "         1.29451150e+00,  1.18619057e+00,  8.69199050e-01],\n",
       "       [-7.13958368e-01, -8.25440017e-01, -3.19060789e-01,\n",
       "        -7.29441422e-01,  1.43113410e-01,  6.83172962e-01],\n",
       "       [-6.73231315e-01, -7.14754124e-01, -3.45443475e-01,\n",
       "        -7.77911161e-01, -8.00965179e-02, -7.79750635e-01],\n",
       "       [ 1.36800384e+00,  1.97053940e+00, -1.05067890e-01,\n",
       "         1.51296666e+00, -1.74531487e-01,  4.42964520e-01],\n",
       "       [-8.18395871e-01, -5.41028583e-01, -7.73429272e-01,\n",
       "        -7.29270754e-01, -7.23971309e-01, -1.09220222e+00],\n",
       "       [-1.11491740e+00, -1.25963170e+00,  1.77396564e+00,\n",
       "        -8.24162214e-01, -1.63956126e+00, -2.28602012e+00],\n",
       "       [ 8.89282338e-01,  8.78585192e-01,  1.54091858e+00,\n",
       "         5.91358957e-01,  1.42657049e+00,  2.15873911e+00],\n",
       "       [ 6.80883672e-01,  1.16763908e+00,  1.01912768e+00,\n",
       "         7.50080285e-01,  6.02410761e-01, -3.76995126e-01],\n",
       "       [-8.50072468e-01, -9.32460815e-01, -6.44447251e-01,\n",
       "        -3.47486228e-01, -1.58933903e+00, -2.75854729e-01],\n",
       "       [-8.05058357e-01, -3.35783218e-01, -4.68562677e-01,\n",
       "        -2.19826493e-01, -3.97741415e-01, -7.72526321e-01],\n",
       "       [-7.44325031e-01, -5.59842741e-01, -3.95277438e-01,\n",
       "        -5.85397551e-01, -1.58762203e+00, -1.17889399e+00],\n",
       "       [-1.11491740e+00, -1.25963170e+00,  6.11661749e-01,\n",
       "        -1.11600465e+00, -1.75588797e+00,  7.09123459e-02],\n",
       "       [-5.70937341e-01, -4.99735170e-01, -8.36454578e-01,\n",
       "        -4.98356823e-01,  1.43384515e-02,  6.36214921e-01],\n",
       "       [-1.60213343e-01, -1.98519593e-02, -5.93147584e-01,\n",
       "        -4.92895444e-01,  9.62980644e-01,  7.19294533e-01],\n",
       "       [-3.00019076e-01, -3.46289826e-01,  1.92855893e-03,\n",
       "        -6.46155392e-01,  2.11793387e-01,  6.07317665e-01],\n",
       "       [-9.71300949e-01, -8.29105113e-01,  8.32983172e-01,\n",
       "        -5.01770185e-01, -3.89156418e-01, -9.49522015e-01],\n",
       "       [-1.11983937e-01, -6.99605061e-01, -4.58302743e-01,\n",
       "        -9.70936775e-01, -3.24768939e-01,  2.71387061e-01],\n",
       "       [-1.11491740e+00, -1.25963170e+00, -2.09132930e-01,\n",
       "        -8.70754604e-01, -1.32062862e+00, -6.74998081e-01],\n",
       "       [ 8.78406121e-02,  3.56675550e-01, -1.58542972e+00,\n",
       "        -4.59444497e-01,  3.66323337e-01, -1.21320948e+00],\n",
       "       [ 3.96762834e+00,  3.65648347e+00, -3.23457903e-01,\n",
       "         1.96353043e+00,  1.66265792e+00,  7.04845905e-01],\n",
       "       [-1.10069866e+00, -1.12649099e+00, -7.64635043e-01,\n",
       "        -5.74816129e-01, -1.62840077e+00, -1.08136575e+00],\n",
       "       [-6.14760604e-01, -7.32590923e-01,  3.83011803e-01,\n",
       "        -6.34720630e-01,  1.03595312e+00,  6.75948648e-01]])"
      ]
     },
     "execution_count": 42,
     "metadata": {},
     "output_type": "execute_result"
    }
   ],
   "source": [
    "x_test"
   ]
  },
  {
   "cell_type": "code",
   "execution_count": 43,
   "id": "f333e5de",
   "metadata": {
    "execution": {
     "iopub.execute_input": "2022-05-03T12:10:25.638088Z",
     "iopub.status.busy": "2022-05-03T12:10:25.637594Z",
     "iopub.status.idle": "2022-05-03T12:10:25.702288Z",
     "shell.execute_reply": "2022-05-03T12:10:25.701702Z"
    },
    "papermill": {
     "duration": 0.14565,
     "end_time": "2022-05-03T12:10:25.704417",
     "exception": false,
     "start_time": "2022-05-03T12:10:25.558767",
     "status": "completed"
    },
    "tags": []
   },
   "outputs": [],
   "source": [
    "from sklearn.linear_model import LogisticRegression"
   ]
  },
  {
   "cell_type": "code",
   "execution_count": 44,
   "id": "0a23bdc6",
   "metadata": {
    "execution": {
     "iopub.execute_input": "2022-05-03T12:10:25.864791Z",
     "iopub.status.busy": "2022-05-03T12:10:25.864291Z",
     "iopub.status.idle": "2022-05-03T12:10:25.867530Z",
     "shell.execute_reply": "2022-05-03T12:10:25.866972Z"
    },
    "papermill": {
     "duration": 0.08561,
     "end_time": "2022-05-03T12:10:25.869264",
     "exception": false,
     "start_time": "2022-05-03T12:10:25.783654",
     "status": "completed"
    },
    "tags": []
   },
   "outputs": [],
   "source": [
    "classifier=LogisticRegression()"
   ]
  },
  {
   "cell_type": "code",
   "execution_count": 45,
   "id": "827b0c22",
   "metadata": {
    "execution": {
     "iopub.execute_input": "2022-05-03T12:10:26.030029Z",
     "iopub.status.busy": "2022-05-03T12:10:26.029534Z",
     "iopub.status.idle": "2022-05-03T12:10:26.044938Z",
     "shell.execute_reply": "2022-05-03T12:10:26.044171Z"
    },
    "papermill": {
     "duration": 0.098081,
     "end_time": "2022-05-03T12:10:26.046893",
     "exception": false,
     "start_time": "2022-05-03T12:10:25.948812",
     "status": "completed"
    },
    "tags": []
   },
   "outputs": [
    {
     "data": {
      "text/plain": [
       "LogisticRegression()"
      ]
     },
     "execution_count": 45,
     "metadata": {},
     "output_type": "execute_result"
    }
   ],
   "source": [
    "classifier.fit(x_train,y_train)"
   ]
  },
  {
   "cell_type": "code",
   "execution_count": 46,
   "id": "4a90993a",
   "metadata": {
    "execution": {
     "iopub.execute_input": "2022-05-03T12:10:26.201113Z",
     "iopub.status.busy": "2022-05-03T12:10:26.200868Z",
     "iopub.status.idle": "2022-05-03T12:10:26.207337Z",
     "shell.execute_reply": "2022-05-03T12:10:26.206601Z"
    },
    "papermill": {
     "duration": 0.086054,
     "end_time": "2022-05-03T12:10:26.209663",
     "exception": false,
     "start_time": "2022-05-03T12:10:26.123609",
     "status": "completed"
    },
    "tags": []
   },
   "outputs": [
    {
     "data": {
      "text/plain": [
       "array([-0.34974006])"
      ]
     },
     "execution_count": 46,
     "metadata": {},
     "output_type": "execute_result"
    }
   ],
   "source": [
    "classifier.intercept_"
   ]
  },
  {
   "cell_type": "code",
   "execution_count": 47,
   "id": "99d1a7c4",
   "metadata": {
    "execution": {
     "iopub.execute_input": "2022-05-03T12:10:26.365389Z",
     "iopub.status.busy": "2022-05-03T12:10:26.364842Z",
     "iopub.status.idle": "2022-05-03T12:10:26.370437Z",
     "shell.execute_reply": "2022-05-03T12:10:26.369804Z"
    },
    "papermill": {
     "duration": 0.085962,
     "end_time": "2022-05-03T12:10:26.372174",
     "exception": false,
     "start_time": "2022-05-03T12:10:26.286212",
     "status": "completed"
    },
    "tags": []
   },
   "outputs": [
    {
     "data": {
      "text/plain": [
       "array([[0.46872548, 1.89543124, 1.20802209, 3.70656847, 0.68948923,\n",
       "        0.39479251]])"
      ]
     },
     "execution_count": 47,
     "metadata": {},
     "output_type": "execute_result"
    }
   ],
   "source": [
    "classifier.coef_"
   ]
  },
  {
   "cell_type": "code",
   "execution_count": 48,
   "id": "ab32aeaf",
   "metadata": {
    "execution": {
     "iopub.execute_input": "2022-05-03T12:10:26.528499Z",
     "iopub.status.busy": "2022-05-03T12:10:26.528222Z",
     "iopub.status.idle": "2022-05-03T12:10:26.539171Z",
     "shell.execute_reply": "2022-05-03T12:10:26.538492Z"
    },
    "papermill": {
     "duration": 0.091843,
     "end_time": "2022-05-03T12:10:26.541159",
     "exception": false,
     "start_time": "2022-05-03T12:10:26.449316",
     "status": "completed"
    },
    "tags": []
   },
   "outputs": [
    {
     "data": {
      "text/html": [
       "<div>\n",
       "<style scoped>\n",
       "    .dataframe tbody tr th:only-of-type {\n",
       "        vertical-align: middle;\n",
       "    }\n",
       "\n",
       "    .dataframe tbody tr th {\n",
       "        vertical-align: top;\n",
       "    }\n",
       "\n",
       "    .dataframe thead th {\n",
       "        text-align: right;\n",
       "    }\n",
       "</style>\n",
       "<table border=\"1\" class=\"dataframe\">\n",
       "  <thead>\n",
       "    <tr style=\"text-align: right;\">\n",
       "      <th></th>\n",
       "      <th>Feature name</th>\n",
       "      <th>Coefficient</th>\n",
       "    </tr>\n",
       "  </thead>\n",
       "  <tbody>\n",
       "    <tr>\n",
       "      <th>0</th>\n",
       "      <td>concavity_mean</td>\n",
       "      <td>0.468725</td>\n",
       "    </tr>\n",
       "    <tr>\n",
       "      <th>1</th>\n",
       "      <td>concave points_mean</td>\n",
       "      <td>1.895431</td>\n",
       "    </tr>\n",
       "    <tr>\n",
       "      <th>2</th>\n",
       "      <td>texture_worst</td>\n",
       "      <td>1.208022</td>\n",
       "    </tr>\n",
       "    <tr>\n",
       "      <th>3</th>\n",
       "      <td>area_worst</td>\n",
       "      <td>3.706568</td>\n",
       "    </tr>\n",
       "    <tr>\n",
       "      <th>4</th>\n",
       "      <td>smoothness_worst</td>\n",
       "      <td>0.689489</td>\n",
       "    </tr>\n",
       "    <tr>\n",
       "      <th>5</th>\n",
       "      <td>symmetry_worst</td>\n",
       "      <td>0.394793</td>\n",
       "    </tr>\n",
       "  </tbody>\n",
       "</table>\n",
       "</div>"
      ],
      "text/plain": [
       "          Feature name  Coefficient\n",
       "0       concavity_mean     0.468725\n",
       "1  concave points_mean     1.895431\n",
       "2        texture_worst     1.208022\n",
       "3           area_worst     3.706568\n",
       "4     smoothness_worst     0.689489\n",
       "5       symmetry_worst     0.394793"
      ]
     },
     "execution_count": 48,
     "metadata": {},
     "output_type": "execute_result"
    }
   ],
   "source": [
    "sum_table=pd.DataFrame(columns=['Feature name'],data=[ 'concavity_mean' , 'concave points_mean', 'texture_worst', 'area_worst', 'smoothness_worst',  'symmetry_worst'])\n",
    "sum_table['Coefficient']=np.transpose(classifier.coef_)\n",
    "sum_table"
   ]
  },
  {
   "cell_type": "code",
   "execution_count": 49,
   "id": "d61e36e0",
   "metadata": {
    "execution": {
     "iopub.execute_input": "2022-05-03T12:10:26.698709Z",
     "iopub.status.busy": "2022-05-03T12:10:26.698446Z",
     "iopub.status.idle": "2022-05-03T12:10:26.706423Z",
     "shell.execute_reply": "2022-05-03T12:10:26.705901Z"
    },
    "papermill": {
     "duration": 0.088505,
     "end_time": "2022-05-03T12:10:26.708075",
     "exception": false,
     "start_time": "2022-05-03T12:10:26.619570",
     "status": "completed"
    },
    "tags": []
   },
   "outputs": [],
   "source": [
    "sum_table.index=sum_table.index+1\n",
    "sum_table.loc[0]=['Intercept',classifier.intercept_[0]]\n",
    "sum_table=sum_table.sort_index()"
   ]
  },
  {
   "cell_type": "code",
   "execution_count": 50,
   "id": "caa31634",
   "metadata": {
    "execution": {
     "iopub.execute_input": "2022-05-03T12:10:26.867794Z",
     "iopub.status.busy": "2022-05-03T12:10:26.867075Z",
     "iopub.status.idle": "2022-05-03T12:10:26.877000Z",
     "shell.execute_reply": "2022-05-03T12:10:26.876429Z"
    },
    "papermill": {
     "duration": 0.092192,
     "end_time": "2022-05-03T12:10:26.878730",
     "exception": false,
     "start_time": "2022-05-03T12:10:26.786538",
     "status": "completed"
    },
    "tags": []
   },
   "outputs": [
    {
     "data": {
      "text/html": [
       "<div>\n",
       "<style scoped>\n",
       "    .dataframe tbody tr th:only-of-type {\n",
       "        vertical-align: middle;\n",
       "    }\n",
       "\n",
       "    .dataframe tbody tr th {\n",
       "        vertical-align: top;\n",
       "    }\n",
       "\n",
       "    .dataframe thead th {\n",
       "        text-align: right;\n",
       "    }\n",
       "</style>\n",
       "<table border=\"1\" class=\"dataframe\">\n",
       "  <thead>\n",
       "    <tr style=\"text-align: right;\">\n",
       "      <th></th>\n",
       "      <th>Feature name</th>\n",
       "      <th>Coefficient</th>\n",
       "      <th>Odd ratio</th>\n",
       "    </tr>\n",
       "  </thead>\n",
       "  <tbody>\n",
       "    <tr>\n",
       "      <th>0</th>\n",
       "      <td>Intercept</td>\n",
       "      <td>-0.349740</td>\n",
       "      <td>0.704871</td>\n",
       "    </tr>\n",
       "    <tr>\n",
       "      <th>1</th>\n",
       "      <td>concavity_mean</td>\n",
       "      <td>0.468725</td>\n",
       "      <td>1.597956</td>\n",
       "    </tr>\n",
       "    <tr>\n",
       "      <th>2</th>\n",
       "      <td>concave points_mean</td>\n",
       "      <td>1.895431</td>\n",
       "      <td>6.655418</td>\n",
       "    </tr>\n",
       "    <tr>\n",
       "      <th>3</th>\n",
       "      <td>texture_worst</td>\n",
       "      <td>1.208022</td>\n",
       "      <td>3.346858</td>\n",
       "    </tr>\n",
       "    <tr>\n",
       "      <th>4</th>\n",
       "      <td>area_worst</td>\n",
       "      <td>3.706568</td>\n",
       "      <td>40.713856</td>\n",
       "    </tr>\n",
       "    <tr>\n",
       "      <th>5</th>\n",
       "      <td>smoothness_worst</td>\n",
       "      <td>0.689489</td>\n",
       "      <td>1.992697</td>\n",
       "    </tr>\n",
       "    <tr>\n",
       "      <th>6</th>\n",
       "      <td>symmetry_worst</td>\n",
       "      <td>0.394793</td>\n",
       "      <td>1.484076</td>\n",
       "    </tr>\n",
       "  </tbody>\n",
       "</table>\n",
       "</div>"
      ],
      "text/plain": [
       "          Feature name  Coefficient  Odd ratio\n",
       "0            Intercept    -0.349740   0.704871\n",
       "1       concavity_mean     0.468725   1.597956\n",
       "2  concave points_mean     1.895431   6.655418\n",
       "3        texture_worst     1.208022   3.346858\n",
       "4           area_worst     3.706568  40.713856\n",
       "5     smoothness_worst     0.689489   1.992697\n",
       "6       symmetry_worst     0.394793   1.484076"
      ]
     },
     "execution_count": 50,
     "metadata": {},
     "output_type": "execute_result"
    }
   ],
   "source": [
    "sum_table['Odd ratio']= np.exp(sum_table.Coefficient)\n",
    "sum_table"
   ]
  },
  {
   "cell_type": "code",
   "execution_count": 51,
   "id": "1d7ceea2",
   "metadata": {
    "execution": {
     "iopub.execute_input": "2022-05-03T12:10:27.040054Z",
     "iopub.status.busy": "2022-05-03T12:10:27.039608Z",
     "iopub.status.idle": "2022-05-03T12:10:27.043027Z",
     "shell.execute_reply": "2022-05-03T12:10:27.042534Z"
    },
    "papermill": {
     "duration": 0.086264,
     "end_time": "2022-05-03T12:10:27.044865",
     "exception": false,
     "start_time": "2022-05-03T12:10:26.958601",
     "status": "completed"
    },
    "tags": []
   },
   "outputs": [],
   "source": [
    "prediction=classifier.predict(x_test)"
   ]
  },
  {
   "cell_type": "code",
   "execution_count": 52,
   "id": "99fa0ee8",
   "metadata": {
    "execution": {
     "iopub.execute_input": "2022-05-03T12:10:27.205350Z",
     "iopub.status.busy": "2022-05-03T12:10:27.204916Z",
     "iopub.status.idle": "2022-05-03T12:10:27.430675Z",
     "shell.execute_reply": "2022-05-03T12:10:27.430116Z"
    },
    "papermill": {
     "duration": 0.309047,
     "end_time": "2022-05-03T12:10:27.433512",
     "exception": false,
     "start_time": "2022-05-03T12:10:27.124465",
     "status": "completed"
    },
    "tags": []
   },
   "outputs": [
    {
     "name": "stdout",
     "output_type": "stream",
     "text": [
      "[[70  0]\n",
      " [ 4 40]]\n"
     ]
    },
    {
     "data": {
      "text/plain": [
       "<AxesSubplot:>"
      ]
     },
     "execution_count": 52,
     "metadata": {},
     "output_type": "execute_result"
    },
    {
     "data": {
      "image/png": "[encoded data removed]",
      "text/plain": [
       "<Figure size 432x288 with 2 Axes>"
      ]
     },
     "metadata": {},
     "output_type": "display_data"
    }
   ],
   "source": [
    "from sklearn.metrics import confusion_matrix,ConfusionMatrixDisplay\n",
    "cm=confusion_matrix(y_test,prediction)\n",
    "print(cm)\n",
    "sns.heatmap(cm,annot=True,xticklabels=['predicted benign','predicted malignant'],yticklabels=['tested benign','tested malignant'])"
   ]
  },
  {
   "cell_type": "code",
   "execution_count": 53,
   "id": "a2009f75",
   "metadata": {
    "execution": {
     "iopub.execute_input": "2022-05-03T12:10:27.600350Z",
     "iopub.status.busy": "2022-05-03T12:10:27.599917Z",
     "iopub.status.idle": "2022-05-03T12:10:27.604342Z",
     "shell.execute_reply": "2022-05-03T12:10:27.603753Z"
    },
    "papermill": {
     "duration": 0.09006,
     "end_time": "2022-05-03T12:10:27.606217",
     "exception": false,
     "start_time": "2022-05-03T12:10:27.516157",
     "status": "completed"
    },
    "tags": []
   },
   "outputs": [
    {
     "name": "stdout",
     "output_type": "stream",
     "text": [
      "0.9649122807017544\n"
     ]
    }
   ],
   "source": [
    "from sklearn.metrics import accuracy_score\n",
    "print(accuracy_score(y_test,prediction))"
   ]
  },
  {
   "cell_type": "code",
   "execution_count": null,
   "id": "bed0dd3c",
   "metadata": {
    "papermill": {
     "duration": 0.080875,
     "end_time": "2022-05-03T12:10:27.766488",
     "exception": false,
     "start_time": "2022-05-03T12:10:27.685613",
     "status": "completed"
    },
    "tags": []
   },
   "outputs": [],
   "source": []
  },
  {
   "cell_type": "code",
   "execution_count": null,
   "id": "d399857a",
   "metadata": {
    "papermill": {
     "duration": 0.081101,
     "end_time": "2022-05-03T12:10:27.942650",
     "exception": false,
     "start_time": "2022-05-03T12:10:27.861549",
     "status": "completed"
    },
    "tags": []
   },
   "outputs": [],
   "source": []
  }
 ],
 "metadata": {
  "kernelspec": {
   "display_name": "Python 3",
   "language": "python",
   "name": "python3"
  },
  "language_info": {
   "codemirror_mode": {
    "name": "ipython",
    "version": 3
   },
   "file_extension": ".py",
   "mimetype": "text/x-python",
   "name": "python",
   "nbconvert_exporter": "python",
   "pygments_lexer": "ipython3",
   "version": "3.7.12"
  },
  "papermill": {
   "default_parameters": {},
   "duration": 31.959966,
   "end_time": "2022-05-03T12:10:28.744695",
   "environment_variables": {},
   "exception": null,
   "input_path": "__notebook__.ipynb",
   "output_path": "__notebook__.ipynb",
   "parameters": {},
   "start_time": "2022-05-03T12:09:56.784729",
   "version": "2.3.4"
  }
 },
 "nbformat": 4,
 "nbformat_minor": 5
}
